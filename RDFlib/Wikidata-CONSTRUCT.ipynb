{
 "cells": [
  {
   "cell_type": "markdown",
   "id": "78c820f1",
   "metadata": {},
   "source": [
    "[![Open In Colab](https://colab.research.google.com/assets/colab-badge.svg)](https://colab.research.google.com/github/jlfvindel/SW-KG/blob/main/RDFlib/Wikidata-CONSTRUCT.ipynb)"
   ]
  },
  {
   "cell_type": "markdown",
   "id": "82388ebb",
   "metadata": {},
   "source": [
    "## Recepción de un grafo desde Wikidata"
   ]
  },
  {
   "cell_type": "markdown",
   "id": "64e2d6f7",
   "metadata": {},
   "source": [
    "### Resumen de este cuaderno\n",
    "+ Se remite una consulta a Wikidata de tipo CONSTRUCT, de la que se espera un grafo como respuesta\n",
    "+ Se visualiza una parte del grafo\n",
    "+ Se construye otro grafo distinto a partir del primero"
   ]
  },
  {
   "cell_type": "markdown",
   "id": "f0447218",
   "metadata": {},
   "source": [
    "### Contexto de trabajo"
   ]
  },
  {
   "cell_type": "code",
   "execution_count": null,
   "id": "6687cb81",
   "metadata": {},
   "outputs": [],
   "source": [
    "# Comente o descomente conforme los paquetes estén instalados\n",
    "!pip install sparqlwrapper rdflib "
   ]
  },
  {
   "cell_type": "markdown",
   "id": "042bae00",
   "metadata": {},
   "source": [
    "## Diseño de la consulta"
   ]
  },
  {
   "cell_type": "markdown",
   "id": "2c8b207c",
   "metadata": {},
   "source": [
    "### Primero, como consulta SELECT\n",
    "Aprovechando el interfaz web de consulta de Wikidata, se experimenta con una consulta SELECT previa, con las siguientes características:\n",
    "+ se acotan las entidades de interés a **los museos localizados en España**\n",
    "+ de estos ítem ?museo nos interesan todas las relaciones (museo, relacionado_por_X_con, objeto) almacenadas en Wikidata como enunciados directos; para todo tipo de relación posible del museo con todo tipo de objeto\n",
    "+ adicionalmente se solicita el tipo de la relación, es decir, qué tipo sintáctico se espera como objeto, así como la clase semántica a la que pertenece el objeto\n",
    "\n",
    "> **Esta consulta se puede ver y ejecutar externamente en** [este enlace](https://query.wikidata.org/#%23%201.%20Items%20%28%3Fmuseo%29%2C%20instancias%20de%20cualquier%20subclase%20de%20museo%20%28Q33506%29%20en%20pa%C3%ADs%20España%20%28Q29%29.%0A%23%20%20%20%20Se%20busca%20toda%20tripleta%20con%20%3Fmuseo%20como%20sujeto%3A%20%3Fmuseo%20%3FpD%20%3Fo%20.%0A%23%202.%20En%20realidad%20en%201%20se%20buscan%20tan%20sólo%20las%20tripletas%20que%20sean%20%27enunciados%20directos%27%3A%20%3Fs%20%3FpD%20%3Fo%2C%20as%C3%AD%20que%0A%23%20%20%20%20%3FpD%20debe%20cumplir%20una%20restricción.%20Si%20%3Fp%20wikibase%3AdirectClaim%20%3FpD%2C%20entonces%20%3FpD%20es%20la%20variante%20sintáctica%0A%23%20%20%20%20adecuada%20para%20ser%20usada%20en%20enunciados%20directos.%0A%23%203.%20Los%20objetos%20%3Fo%2C%20en%20caso%20de%20no%20ser%20literales%2C%20pueden%20pertenecer%20a%20alguna%20clase%0A%0ASELECT%20%20%3FmuseoLabel%20%3FpLabel%20%3FoLabel%20%20%20%20%20%20%20%20%20%0A%20%20%20%20%20%20%20%20%3Fmuseo%20%3FpD%20%3Fo%20%20%20%20%20%20%20%20%20%20%20%20%20%20%20%20%20%20%20%20%20%20%20%20%20%20%20%20%0A%20%20%20%20%20%20%20%20%3FpTipo%20%20%20%20%20%20%20%20%20%20%20%20%20%20%20%20%20%20%20%20%20%20%20%20%20%20%20%20%0A%20%20%20%20%20%20%20%20%3FoClase%20%3FoClaseLabel%20%20%20%20%20%20%20%0AWHERE%20%7B%0A%20%20%3Fp%20rdf%3Atype%20wikibase%3AProperty%20%3B%20%20%20%20%20%20%20%20%20%20%20%20%20%20%20%20%20%23%202%0A%20%20%20%20%20%20%20%20%20%20%20%20wikibase%3AdirectClaim%20%3FpD%20%3B%20%0A%20%20%20%20%20%20%20%20%20%20%20%20wikibase%3ApropertyType%20%3FpTipo.%20%0A%20%20%0A%20%20%3Fmuseo%20wdt%3AP31%2Fwdt%3AP279%2a%20wd%3AQ33506%20%3B%20%20%20%20%20%20%20%20%20%20%20%20%23%201%0A%20%20%20%20%20%20%20%20%20%20wdt%3AP17%20wd%3AQ29%20%3B%20%20%20%20%20%20%20%20%20%20%20%20%20%20%20%20%20%20%20%20%20%20%20%20%20%20%0A%20%20%20%20%20%20%20%20%20%20%3FpD%20%3Fo%20.%20%20%20%20%20%20%20%20%20%20%20%20%20%20%20%20%20%20%20%20%20%20%20%20%20%20%20%20%0A%20%20%0A%20%20OPTIONAL%20%7B%3Fo%20wdt%3AP31%20%3FoClase%7D%20.%20%20%20%20%20%20%20%20%20%20%20%20%20%20%20%20%20%23%203%0A%20%20%0A%20%20%23%20De%20cualquier%20%3Fitem%2C%20este%20servicio%20proporciona%20su%20etiqueta%20en%20%3FitemLabel%20%0A%20%20SERVICE%20wikibase%3Alabel%20%7B%20bd%3AserviceParam%20wikibase%3Alanguage%20%22es%22%2C%22ca%22%2C%22eu%22%2C%22gl%22%2C%22en%22%2C%22fr%22.%20%7D%0A%7D%0AORDER%20BY%20%3Fmuseo%0ALIMIT%20200000). La consulta devuelve una colección de n-tuplas, 9-tuplas en este caso, con tantos componente como variables solicitadas como respuesta en SELECT."
   ]
  },
  {
   "cell_type": "markdown",
   "id": "ad2ad7f9",
   "metadata": {},
   "source": [
    "### Diseño de la consulta CONSTRUCT\n",
    "También esta consulta CONSTRUCT se puede ejecutar y refinar directamente sobre el interfaz web de Wikidata. El patrón WHERE de esta consulta es similar al anterior y devuelve una n-tupla resultante cada vez que una instanciación de todas las variables de ese patrón coincidan localmente con el grafo consultado (el de todo Wikidata).\n",
    "> [Este enlace](https://query.wikidata.org/#CONSTRUCT%20%7B%0A%20%20%23%20Por%20el%20cuerpo%20del%20WHERE%2C%20los%20%3Fsujeto%20son%20museos%20en%20España.%0A%20%20%3Fsujeto%20%3FpropD%20%3Fobjeto%20%3B%0A%20%20%20%20%20%20%20%20%20%20rdfs%3Alabel%20%3FsujetoLabel%20%3B%0A%20%20%20%20%20%20%20%20%20%20rdf%3Atype%20%3FsujetoClase%20.%0A%20%20%20%0A%20%20%3Fprop%20rdf%3Atype%20wikibase%3AProperty%20%3B%0A%20%20%20%20%20%20%20%20rdfs%3Alabel%20%3FpropLabel%20%3B%0A%20%20%20%20%20%20%20%20wikibase%3AdirectClaim%20%3FpropD%20%3B%0A%20%20%20%20%20%20%20%20wikibase%3ApropertyType%20%3FpropTipoObjeto%20.%0A%20%20%0A%20%20%3Fobjeto%20rdfs%3Alabel%20%3FobjetoLabel%20%3B%0A%20%20%20%20%20%20%20%20%20%20%20%20%20%20wdt%3AP31%20%3FobjetoClase%20.%20%20%20%20%20%20%20%20%20%20%20%20%20%20%0A%7D%0AWHERE%20%7B%0A%20%20%3Fprop%20rdf%3Atype%20wikibase%3AProperty%20%3B%20%20%20%20%20%20%20%20%20%20%20%20%20%20%20%20%20%0A%20%20%20%20%20%20%20%20%20%20%20%20wikibase%3AdirectClaim%20%3FpropD%20%3B%20%20%20%20%20%20%20%20%20%20%20%20%20%0A%20%20%20%20%20%20%20%20%20%20%20%20wikibase%3ApropertyType%20%3FpropTipoObjeto.%20%0A%20%20%0A%20%20%3Fsujeto%20wdt%3AP31%2Fwdt%3AP279%2a%20wd%3AQ33506%20%3B%20%20%20%20%20%20%20%20%20%20%20%20%20%20%0A%20%20%20%20%20%20%20%20%20%20wdt%3AP31%20%3FsujetoClase%20%3B%20%20%20%20%20%20%20%20%20%20%20%20%20%20%20%20%20%20%20%20%20%0A%20%20%20%20%20%20%20%20%20%20wdt%3AP17%20wd%3AQ29%20%3B%20%20%20%20%20%20%20%20%20%20%20%20%20%20%20%20%20%20%20%20%20%20%20%20%20%20%20%0A%20%20%20%20%20%20%20%20%20%20%3FpropD%20%3Fobjeto%20.%20%20%20%20%20%20%20%20%20%20%20%20%20%20%20%20%20%20%20%20%20%20%20%20%20%20%20%0A%20%20%0A%20%20OPTIONAL%20%7B%20%20%20%20%20%20%20%20%20%20%20%20%20%20%20%20%20%20%20%20%20%20%20%20%20%20%20%20%20%20%20%20%20%20%20%20%20%20%20%20%20%0A%20%20%20%20%3Fobjeto%20wdt%3AP31%20%3FobjetoClase%20.%0A%20%20%7D%20.%20%20%20%20%20%20%20%20%20%20%0A%20%20%0A%20%20%23%20De%20cualquier%20%3Fitem%2C%20este%20servicio%20proporciona%20su%20etiqueta%20en%20%3FitemLabel%20%0A%20%20SERVICE%20wikibase%3Alabel%20%7B%20bd%3AserviceParam%20wikibase%3Alanguage%20%22es%22%2C%22ca%22%2C%22eu%22%2C%22gl%22%2C%22en%22%2C%22fr%22.%20%7D%0A%7D) **muestra la consulta CONSTRUCT, que puede ejecutarse externamente**. \n",
    "\n",
    "En la consulta SELECT anterior, cada una de esas n-tuplas resultantes se mostraban como una fila de resultados de la tabla. Las consultas CONSTRUCT **siempre devuelven tripletas (sujeto, propiedad, objeto), es decir, un grafo resultante**. Las n-tuplas de instancias que va facilitando el cuerpo del WHERE se usan para configurar el grafo tal y como se declara en el cuerpo de CONSTRUCT: con los espacios de nombre que se desee y con la relación entre entidades que se quiera. En este ejemplo, salvo la inserción de alguna tripleta nueva, se mantiene en el grafo resultante la relación que tenían las entidades en Wikidata."
   ]
  },
  {
   "cell_type": "code",
   "execution_count": 15,
   "id": "389657c4",
   "metadata": {},
   "outputs": [],
   "source": [
    "from SPARQLWrapper import SPARQLWrapper, RDFXML, TURTLE\n",
    "from rdflib import RDFS"
   ]
  },
  {
   "cell_type": "code",
   "execution_count": 2,
   "id": "54f5296d",
   "metadata": {},
   "outputs": [],
   "source": [
    "consulta = '''\n",
    "CONSTRUCT {\n",
    "  # Por el cuerpo del WHERE, los ?sujeto son museos en España.\n",
    "  ?sujeto ?propD ?objeto ;\n",
    "          rdfs:label ?sujetoLabel ;\n",
    "          rdf:type ?sujetoClase .\n",
    "   \n",
    "  ?prop rdf:type wikibase:Property ;\n",
    "        rdfs:label ?propLabel ;\n",
    "        wikibase:directClaim ?propD ;\n",
    "        wikibase:propertyType ?propTipoObjeto .\n",
    "  \n",
    "  ?objeto rdfs:label ?objetoLabel ;\n",
    "              wdt:P31 ?objetoClase .              \n",
    "}\n",
    "WHERE {\n",
    "  ?prop rdf:type wikibase:Property ;                 \n",
    "            wikibase:directClaim ?propD ;             \n",
    "            wikibase:propertyType ?propTipoObjeto. \n",
    "  \n",
    "  ?sujeto wdt:P31/wdt:P279* wd:Q33506 ;              \n",
    "          wdt:P31 ?sujetoClase ;                     \n",
    "          wdt:P17 wd:Q29 ;                           \n",
    "          ?propD ?objeto .                           \n",
    "  \n",
    "  OPTIONAL {                                         \n",
    "    ?objeto wdt:P31 ?objetoClase .\n",
    "  } .          \n",
    "  \n",
    "  # De cualquier ?item, este servicio proporciona su etiqueta en ?itemLabel \n",
    "  SERVICE wikibase:label { bd:serviceParam wikibase:language \"es\",\"ca\",\"eu\",\"gl\",\"en\",\"fr\". }\n",
    "}\n",
    "'''"
   ]
  },
  {
   "cell_type": "markdown",
   "id": "928a77b4",
   "metadata": {},
   "source": [
    "## Ejecución"
   ]
  },
  {
   "cell_type": "markdown",
   "id": "297f2972",
   "metadata": {},
   "source": [
    "### Recepción de resultados"
   ]
  },
  {
   "cell_type": "code",
   "execution_count": 3,
   "id": "1e4f4534",
   "metadata": {},
   "outputs": [],
   "source": [
    "servidor = \"https://query.wikidata.org/sparql\" \n",
    "cliente = SPARQLWrapper(servidor)\n",
    "# Se fija el retorno a RDFXML porque se espera un grafo\n",
    "cliente.setReturnFormat(RDFXML)\n",
    "\n",
    "cliente.setQuery(consulta)\n",
    "# Ejecución de la consulta y recepción en un objeto QueryResult\n",
    "resp_obj = cliente.query()\n",
    "# Conversión a un grafo RDF internamente vía RDFLib\n",
    "resp_grafo = resp_obj.convert()"
   ]
  },
  {
   "cell_type": "code",
   "execution_count": 4,
   "id": "a38654b7",
   "metadata": {},
   "outputs": [
    {
     "data": {
      "text/plain": [
       "15232"
      ]
     },
     "execution_count": 4,
     "metadata": {},
     "output_type": "execute_result"
    }
   ],
   "source": [
    "len(resp_grafo)"
   ]
  },
  {
   "cell_type": "markdown",
   "id": "e060b244",
   "metadata": {},
   "source": [
    "### Secuenciación del grafo\n",
    "El grafo RDFLib `resp_grafo` se puede secuenciar textualmente en varios formatos para ser impreso o almacenado en ficheros."
   ]
  },
  {
   "cell_type": "code",
   "execution_count": 7,
   "id": "b400d8f8",
   "metadata": {},
   "outputs": [
    {
     "name": "stdout",
     "output_type": "stream",
     "text": [
      "@prefix geo: <http://www.opengis.net/ont/geosparql#> .\n",
      "@prefix rdfs: <http://www.w3.org/2000/01/rdf-schema#> .\n",
      "@prefix wd: <http://www.wikidata.org/entity/> .\n",
      "@prefix wdt: <http://www.wikidata.org/prop/direct/> .\n",
      "@prefix wikibase: <http://wikiba.se/ontology#> .\n",
      "@prefix xsd: <http://www.w3.org/2001/XMLSchema#> .\n",
      "\n",
      "wd:P1004 a wikibase:Property ;\n",
      "    rdfs:label \"identificador de lugar MusicBrainz\"@es ;\n",
      "    wikibase:directClaim wdt:P1004 ;\n",
      "    wikibase:propertyType wikibase:ExternalId .\n",
      "\n",
      "wd:P1005 a wikibase:Property ;\n",
      "    rdfs:label \"identificador PTBNP\"@es ;\n",
      "    wikibase:directClaim wdt:P1005 ;\n",
      "    wikibase:propertyType wikibase:ExternalId .\n",
      "\n",
      "wd:P101 a wikibase:Property ;\n",
      "    rdfs:label \"campo de trabajo\"@es ;\n",
      "    wikibase:directClaim wdt:P101 ;\n",
      "    wikibase:propertyType wikibase:WikibaseItem .\n",
      "\n",
      "wd:P1015 a wikibase:Property ;\n",
      "    rdfs:label \"identificador BIBSYS\"@es ;\n",
      "    wikibase:directClaim wdt:P1015 ;\n",
      "    wikibase:propertyType wikibase:ExternalId .\n",
      "\n",
      "wd:P1017 a wikibase:Property ;\n",
      "    rdfs:label \"identificador BAV\"@es ;\n",
      "    wikibase:directClaim wdt:P1017 ;\n",
      "    wikibase:propertyType wikibase:ExternalId .\n",
      "\n",
      "wd:P1030 rdfs:label \"iluminación característica de faro\"@es ;\n",
      "    wikibase:directClaim wdt:P1030 .\n",
      "\n",
      "wd:P1037 a wikibase:Property ;\n",
      "    rdfs:label \"gerente/director\"@es ;\n",
      "    wikibase:directClaim wdt:P1037 ;\n",
      "    wikibase:propertyType wikibase:WikibaseItem .\n",
      "\n",
      "wd:P10565 a wikibase:Property ;\n",
      "    rdfs:label \"identificador de la Enciclopedia de la China (tercera edición)\"@es ;\n",
      "    wikibase:directClaim wdt:P10565 ;\n",
      "    wikibase:propertyType wikibase:ExternalId .\n",
      "\n",
      "wd:P106 rdfs:label \"ocupación\"@es ;\n",
      "    wikibase:directClaim wdt:P106 .\n",
      "\n",
      "wd:P10689 a wikibase:Property ;\n",
      "    rdfs:label \"objeto de OpenStreetMap\"@es ;\n",
      "    wikibase:directClaim wdt:P10689 ;\n",
      "    wikibase:propertyType wikibase:ExternalId .\n",
      "\n",
      "wd:P10834 a wikibase:Property ;\n",
      "    rdfs:label \"identificador BVMC de organización\"@es ;\n",
      "    wikibase:directClaim wdt:P10834 ;\n",
      "    wikibase:propertyType wikibase:ExternalId .\n",
      "\n",
      "wd:P1101 a wikibase:Property ;\n",
      "    rdfs:label \"pisos sobre el suelo\"@es ;\n",
      "    wikibase:directClaim wdt:P1101 ;\n",
      "    wikibase:propertyType wikibase:Quantity .\n",
      "\n",
      "wd:P11101 rdfs:label \"imagen de modelo\"@es ;\n",
      "    wikibase:directClaim wdt:P11101 .\n",
      "\n",
      "wd:P112 a wikibase:Property ;\n",
      "    rdfs:label \"fundador\"@es ;\n",
      "    wikibase:directClaim wdt:P112 ;\n",
      "    wikibase:propertyType wikibase:WikibaseItem .\n",
      "\n",
      "wd:P1128 a wikibase:Property ;\n",
      "    rdfs:label \"empleados\"@es ;\n",
      "    wikibase:directClaim wdt:P1128 ;\n",
      "    wikibase:propertyType wikibase:Quantity .\n",
      "\n",
      "wd:P1139 rdfs:label \"pisos subterráneos\"@es ;\n",
      "    wikibase:directClaim wdt:P1139 .\n",
      "\n",
      "wd:P1174 a wikibase:Property ;\n",
      "    rdfs:label \"visitantes anuales\"@es ;\n",
      "    wikibase:directClaim wdt:P1174 ;\n",
      "    wikibase:propertyType wikibase:Quantity .\n",
      "\n",
      "wd:P1207 a wikibase:Property ;\n",
      "    rdfs:label \"identificador NUKAT\"@es ;\n",
      "    wikibase:directClaim wdt:P1207 ;\n",
      "    wikibase:propertyType wikibase:ExternalId .\n",
      "\n",
      "wd:P126 a wikibase:Property ;\n",
      "    rdfs:label \"mantenido por\"@es ;\n",
      "    wikibase:directClaim wdt:P126 ;\n",
      "    wikibase:propertyType wikibase:WikibaseItem .\n",
      "\n",
      "wd:P1269 rdfs:label \"faceta de\"@es ;\n",
      "    wikibase:directClaim wdt:P1269 .\n",
      "\n",
      "wd:P127 a wikibase:Property ;\n",
      "    rdfs:label \"propiedad de\"@es ;\n",
      "    wikibase:directClaim wdt:P127 ;\n",
      "    wikibase:propertyType wikibase:WikibaseItem .\n",
      "\n",
      "wd:P1273 a wikibase:Property ;\n",
      "    rdfs:label \"identificador CANTIC (antiguo)\"@es ;\n",
      "    wikibase:directClaim wdt:P1273 ;\n",
      "    wikibase:propertyType wikibase:ExternalId .\n",
      "\n",
      "wd:P1296 a wikibase:Property ;\n",
      "    rdfs:label \"identificador de la Gran Enciclopedia Catalana\"@es ;\n",
      "    wikibase:directClaim wdt:P1296 ;\n",
      "    wikibase:propertyType wikibase:ExternalId .\n",
      "\n",
      "wd:P1299 a wikibase:Property ;\n",
      "    rdfs:label \"representado por\"@es ;\n",
      "    wikibase:directClaim wdt:P1299 ;\n",
      "    wikibase:propertyType wikibase:WikibaseItem .\n",
      "\n",
      "wd:P131 a wikibase:Property ;\n",
      "    rdfs:label \"situado en la entidad territorial administrativa\"@es ;\n",
      "    wikibase:directClaim wdt:P131 ;\n",
      "    wikibase:propertyType wikibase:WikibaseItem .\n",
      "\n",
      "wd:P1315 a wikibase:Property ;\n",
      "    rdfs:label \"identificador NLA Trove\"@es ;\n",
      "    wikibase:directClaim wdt:P1315 ;\n",
      "    wikibase:propertyType wikibase:ExternalId .\n",
      "\n",
      "wd:P1325 a wikibase:Property ;\n",
      "    rdfs:label \"datos externos disponibles en\"@es ;\n",
      "    wikibase:directClaim wdt:P1325 ;\n",
      "    wikibase:propertyType wikibase:Url .\n",
      "\n",
      "wd:P1329 a wikibase:Property ;\n",
      "    rdfs:label \"número de teléfono\"@es ;\n",
      "    wikibase:directClaim wdt:P1329 ;\n",
      "    wikibase:propertyType wikibase:String .\n",
      "\n",
      "wd:P1343 a wikibase:Property ;\n",
      "    rdfs:label \"descrito en\"@es ;\n",
      "    wikibase:directClaim wdt:P1343 ;\n",
      "    wikibase:propertyType wikibase:WikibaseItem .\n",
      "\n",
      "wd:P135 a wikibase:Property ;\n",
      "    rdfs:label \"movimiento\"@es ;\n",
      "    wikibase:directClaim wdt:P135 ;\n",
      "    wikibase:propertyType wikibase:WikibaseItem .\n",
      "\n",
      "wd:P136 a wikibase:Property ;\n",
      "    rdfs:label \"género\"@es ;\n",
      "    wikibase:directClaim wdt:P136 ;\n",
      "    wikibase:propertyType wikibase:WikibaseItem .\n",
      "\n",
      "wd:P1365 a wikibase:Property ;\n",
      "    rdfs:label \"reemplaza a\n"
     ]
    }
   ],
   "source": [
    "resp_f_turtle = resp_grafo.serialize(format=\"turtle\")\n",
    "print(resp_f_turtle[:5000])"
   ]
  },
  {
   "cell_type": "code",
   "execution_count": 8,
   "id": "349173ee",
   "metadata": {},
   "outputs": [
    {
     "name": "stdout",
     "output_type": "stream",
     "text": [
      "<?xml version=\"1.0\" encoding=\"utf-8\"?>\n",
      "<rdf:RDF\n",
      "   xmlns:rdf=\"http://www.w3.org/1999/02/22-rdf-syntax-ns#\"\n",
      "   xmlns:rdfs=\"http://www.w3.org/2000/01/rdf-schema#\"\n",
      "   xmlns:wdt=\"http://www.wikidata.org/prop/direct/\"\n",
      "   xmlns:wikibase=\"http://wikiba.se/ontology#\"\n",
      ">\n",
      "  <rdf:Description rdf:about=\"http://www.wikidata.org/entity/Q160112\">\n",
      "    <wdt:P276 rdf:resource=\"http://www.wikidata.org/entity/Q5818335\"/>\n",
      "    <rdfs:label xml:lang=\"es\">Museo del Prado</rdfs:label>\n",
      "    <rdf:type rdf:resource=\"http://www.wikidata.org/entity/Q207694\"/>\n",
      "    <rdf:type rdf:resource=\"http://www.wikidata.org/entity/Q570116\"/>\n",
      "    <rdf:type rdf:resource=\"http://www.wikidata.org/entity/Q43229\"/>\n",
      "    <rdf:type rdf:resource=\"http://www.wikidata.org/entity/Q17431399\"/>\n",
      "    <rdf:type rdf:resource=\"http://www.wikidata.org/entity/Q1200957\"/>\n",
      "    <wdt:P271 rdf:datatype=\"http://www.w3.org/2001/XMLSchema#string\">DA03210098</wdt:P271>\n",
      "    <wdt:P269 rdf:datatype=\"http://www.w3.org/2001/XMLSchema#string\">026414767</wdt:P269>\n",
      "    <wdt:P268 rdf:datatype=\"http://www.w3.org/2001/XMLSchema#string\">118666032</wdt:P268>\n",
      "    <wdt:P409 rdf:datatype=\"http://www.w3.org/2001/XMLSchema#string\">36514982</wdt:P409>\n",
      "    <wdt:P373 rdf:datatype=\"http://www.w3.org/2001/XMLSchema#string\">Museo del Prado</wdt:P373>\n",
      "    <wdt:P527 rdf:resource=\"http://www.wikidata.org/entity/Q97061534\"/>\n",
      "    <wdt:P527 rdf:resource=\"http://www.wikidata.org/entity/Q106622805\"/>\n",
      "    <wdt:P527 rdf:resource=\"http://www.wikidata.org/entity/Q107125486\"/>\n",
      "    <wdt:P527 rdf:resource=\"http://www.wikidata.org/entity/Q86855541\"/>\n",
      "    <wdt:P527 rdf:resource=\"http://www.wikidata.org/entity/Q107126359\"/>\n",
      "    <wdt:P527 rdf:resource=\"http://www.wikidata.org/entity/Q107320704\"/>\n",
      "    <wdt:P527 rdf:resource=\"http://www.wikidata.org/entity/Q107338101\"/>\n",
      "    <wdt:P527 rdf:resource=\"http://www.wikidata.org/entity/Q111605744\"/>\n",
      "    <wdt:P31 rdf:resource=\"http://www.wikidata.org/entity/Q43229\"/>\n",
      "    <wdt:P31 rdf:resource=\"http://www.wikidata.org/entity/Q570116\"/>\n",
      "    <wdt:P31 rdf:resource=\"http://www.wikidata.org/entity/Q1200957\"/>\n",
      "    <wdt:P31 rdf:resource=\"http://www.wikidata.org/entity/Q17431399\"/>\n",
      "    <wdt:P31 rdf:resource=\"http://www.wikidata.org/entity/Q207694\"/>\n",
      "    <wdt:P131 rdf:resource=\"http://www.wikidata.org/entity/Q2807\"/>\n",
      "    <wdt:P18 rdf:resource=\"http://commons.wikimedia.org/wiki/Special:FilePath/Museo%20del%20Prado%202016%20%2825185969599%29.jpg\"/>\n",
      "    <wdt:P84 rdf:resource=\"http://www.wikidata.org/entity/Q2429525\"/>\n",
      "    <wdt:P112 rdf:resource=\"http://www.wikidata.org/entity/Q36234\"/>\n",
      "    <wdt:P17 rdf:resource=\"http://www.wikidata.org/entity/Q29\"/>\n",
      "    <wdt:P1566 rdf:datatype=\"http://www.w3.org/2001/XMLSchema#string\">6452756</wdt:P1566>\n",
      "    <wdt:P1436 rdf:datatype=\"http://www.w3.org/2001/XMLSchema#decimal\">932</wdt:P1436>\n",
      "    <wdt:P1436 rdf:datatype=\"http://www.w3.org/2001/XMLSchema#decimal\">8637</wdt:P1436>\n",
      "    <wdt:P1436 rdf:datatype=\"http://www.w3.org/2001/XMLSchema#decimal\">7825</wdt:P1436>\n",
      "    <wdt:P1436 rdf:datatype=\"http://www.w3.org/2001/XMLSchema#decimal\">155</wdt:P1436>\n",
      "    <wdt:P1436 rdf:datatype=\"http://www.w3.org/2001/XMLSchema#decimal\">4</wdt:P1436>\n",
      "    <wdt:P1436 rdf:datatype=\"http://www.w3.org/2001/XMLSchema#decimal\">981</wdt:P1436>\n",
      "    <wdt:P1417 rdf:datatype=\"http://www.w3.org/2001/XMLSchema#string\">topic/Prado-Museum</wdt:P1417>\n",
      "    <wdt:P1174 rdf:datatype=\"http://www.w3.org/2001/XMLSchema#decimal\">3497345</wdt:P1174>\n",
      "    <wdt:P1174 rdf:datatype=\"http://www.w3.org/2001/XMLSchema#decimal\">1175296</wdt:P1174>\n",
      "    <wdt:P1424 rdf:resource=\"http://www.wikidata.org/entity/Q26139861\"/>\n",
      "    <wdt:P1375 rdf:datatype=\"http://www.w3.org/2001/XMLSchema#string\">000198133</wdt:P1375>\n",
      "    <wdt:P1619 rdf:datatype=\"http://www.w3.org/2001/XMLSchema#dateTime\">1819-11-19T00:00:00+00:00</wdt:P1619>\n",
      "    <wdt:P1296 rdf:datatype=\"http://www.w3.org/2001/XMLSchema#string\">0052537</wdt:P1296>\n",
      "    <wdt:P1368 rdf:datatype=\"http://www.w3.org/2001/XMLSchema#string\">000093261</wdt:P1368>\n",
      "    <wdt:P1329 rdf:datatype=\"http://www.w3.org/2001/XMLSchema#string\">+34 913 30 28 00</wdt:P1329>\n",
      "    <wdt:P1273 rdf:datatype=\"http://www.w3.org/2001/XMLSchema#string\">a10128128</wdt:P1273>\n",
      "    <wdt:P1207 rdf:datatype=\"http://www.w3.org/2001/XMLSchema#string\">n97045519</wdt:P1207>\n",
      "    <wdt:P1476 xml:lang=\"es\">Museo Nacional del Prado</wdt:P1476>\n",
      "    <wdt:P1435 rdf:resource=\"http://www.wikidata.org/entity/Q23712\"/>\n",
      "    <wdt:P1612 rdf:datatype=\"http://www.w3.org/2001/XMLSchema#string\">Museo del Prado</wdt:P1612>\n",
      "    <wdt:P7827 rdf:datatype=\"http://www.w3.org/2001/XMLSchema#string\">Museo_del_Prado</wdt:P7827>\n",
      "    <wdt:P7859 rdf:datatype=\"http://www.w3.org/2001/XMLSchema#string\">lccn-n79064568</wdt:P7859>\n",
      "    <wdt:P7859 rdf:datatype=\"http://www.w3.org/2001/XMLSchema#string\">viaf-316404905</wdt:P7859>\n",
      "    <wdt:P7832 rdf:datatype=\"http://www.w3.org/2001/XMLSchema#string\">Pradoko_Museoa</wdt:P7832>\n",
      "    <wdt:P8034 rdf:datatype=\"http://www.w3.org/2001/XMLSchema#string\">494/732</wdt:P8034>\n",
      "    <wdt:P9984 rdf:datatype=\"http://www.w3.org/2\n"
     ]
    }
   ],
   "source": [
    "resp_f_xml = resp_grafo.serialize(format=\"xml\")\n",
    "print(resp_f_xml[:5000])"
   ]
  },
  {
   "cell_type": "markdown",
   "id": "ef730d92",
   "metadata": {},
   "source": [
    "## Descarga a fichero"
   ]
  },
  {
   "cell_type": "markdown",
   "id": "af7df14d",
   "metadata": {},
   "source": [
    "### Descarga desde Google Colab\n",
    "Si este cuaderno se está ejecutando desde Google colab:"
   ]
  },
  {
   "cell_type": "code",
   "execution_count": null,
   "id": "171b49c4",
   "metadata": {},
   "outputs": [],
   "source": [
    "from google.colab import files\n",
    "\n",
    "with open('resp_f_xml.xml', 'w') as f:\n",
    "  f.write(resp_f_xml)\n",
    "files.download('resp_f_xml.xml')"
   ]
  },
  {
   "cell_type": "code",
   "execution_count": null,
   "id": "37fee8b4",
   "metadata": {},
   "outputs": [],
   "source": [
    "with open('resp_f_turtle.ttl', 'w') as f:\n",
    "  f.write(resp_f_turtle)\n",
    "files.download('resp_f_turtle.ttl')"
   ]
  },
  {
   "cell_type": "markdown",
   "id": "83257362",
   "metadata": {},
   "source": [
    "### Descarga desde ejecución local\n",
    "Descomente y reemplace, en caso de ejecución local:"
   ]
  },
  {
   "cell_type": "code",
   "execution_count": 9,
   "id": "788620e6",
   "metadata": {},
   "outputs": [
    {
     "data": {
      "text/plain": [
       "<Graph identifier=N1a84061fa9a342c9b3aa78b0e87bf756 (<class 'rdflib.graph.ConjunctiveGraph'>)>"
      ]
     },
     "execution_count": 9,
     "metadata": {},
     "output_type": "execute_result"
    }
   ],
   "source": [
    "#fichero_turtle = 'reemplace esto con el camino y el nombre del fichero .ttl'\n",
    "#resp_grafo.serialize(destination=fichero_turtle, format='turtle')"
   ]
  },
  {
   "cell_type": "code",
   "execution_count": 10,
   "id": "17471988",
   "metadata": {},
   "outputs": [
    {
     "data": {
      "text/plain": [
       "<Graph identifier=N1a84061fa9a342c9b3aa78b0e87bf756 (<class 'rdflib.graph.ConjunctiveGraph'>)>"
      ]
     },
     "execution_count": 10,
     "metadata": {},
     "output_type": "execute_result"
    }
   ],
   "source": [
    "#fichero_xml = 'reemplace esto con el camino y el nombre del fichero .xml'\n",
    "#resp_grafo.serialize(destination=fichero_xml, format='xml')"
   ]
  },
  {
   "cell_type": "code",
   "execution_count": null,
   "id": "55248328",
   "metadata": {},
   "outputs": [],
   "source": []
  }
 ],
 "metadata": {
  "kernelspec": {
   "display_name": "Python 3 (ipykernel)",
   "language": "python",
   "name": "python3"
  },
  "language_info": {
   "codemirror_mode": {
    "name": "ipython",
    "version": 3
   },
   "file_extension": ".py",
   "mimetype": "text/x-python",
   "name": "python",
   "nbconvert_exporter": "python",
   "pygments_lexer": "ipython3",
   "version": "3.9.13"
  }
 },
 "nbformat": 4,
 "nbformat_minor": 5
}
