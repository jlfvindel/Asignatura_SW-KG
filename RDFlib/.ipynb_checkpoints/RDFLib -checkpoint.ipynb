{
 "cells": [
  {
   "cell_type": "markdown",
   "id": "803ad8f3",
   "metadata": {},
   "source": [
    "# RDFLib\n",
    "\n",
    "1. Uso de `rdflib` para generar un grafo RDF a partir de datos\n",
    "2. Consulta y administración del grafo, tanto con SPARQL como con métodos propios de rdflib\n",
    "3. Visualización del grafo mediante networkx\n",
    "\n",
    "[https://rdflib.readthedocs.io/en/stable/index.html](https://rdflib.readthedocs.io/en/stable/index.html)"
   ]
  },
  {
   "cell_type": "markdown",
   "id": "f5dd78ed",
   "metadata": {},
   "source": [
    "\n",
    "## Datos\n",
    "Lo usual es partir de un fichero o de una consulta que devuelven un dataset. Para este ejemplo sencillo se parte de una pequeña lista de diccionarios.\n",
    "### Datos iniciales"
   ]
  },
  {
   "cell_type": "code",
   "execution_count": null,
   "id": "496f40ab",
   "metadata": {},
   "outputs": [],
   "source": [
    "pers = [ \n",
    "    {'nombre':'Marcos', 'año_nacimiento':'1962', 'lugar_nacimiento':'Salamanca', 'tiene_madre':'Belén', 'tiene_padre':'Ángel'},\n",
    "    {'nombre':'Arturo', 'año_nacimiento':'1966', 'lugar_nacimiento':'Salamanca', 'tiene_madre':'Belén', 'tiene_padre':'Ángel'},\n",
    "    {'nombre':'Pedro', 'año_nacimiento':'1979', 'lugar_nacimiento':'Badajoz', 'tiene_madre':'Inés', 'tiene_padre':'Pablo'},\n",
    "    {'nombre':'Luis', 'año_nacimiento':'1984', 'lugar_nacimiento':'Madrid', 'tiene_madre':'Isabel', 'tiene_padre':'Jorge'},\n",
    "    {'nombre':'Ana', 'año_nacimiento':'1982', 'lugar_nacimiento':'Madrid', 'tiene_madre':'Isabel', 'tiene_padre':'Jorge'},\n",
    "    {'nombre':'Sonia', 'año_nacimiento':'1980', 'lugar_nacimiento':'Valencia', 'tiene_madre':'María', 'tiene_padre':'Fernando'},\n",
    "    {'nombre':'Begoña', 'año_nacimiento':'2010', 'lugar_nacimiento':'Madrid', 'tiene_madre':'Sonia', 'tiene_padre':'Pedro'},\n",
    "    {'nombre':'Marta', 'año_nacimiento':'2015', 'lugar_nacimiento':'Soria', 'tiene_madre':'Ana', 'tiene_padre':'Arturo'},\n",
    "    {'nombre':'Juan', 'año_nacimiento':'2020', 'lugar_nacimiento':'Teruel', 'tiene_madre':'Ana', 'tiene_padre':'Pedro'} ]\n",
    "\n",
    "print(f\"{pers[0]['nombre']} nació en {pers[0]['año_nacimiento']} en {pers[0]['lugar_nacimiento']}\")"
   ]
  },
  {
   "cell_type": "markdown",
   "id": "9ade63b5",
   "metadata": {},
   "source": [
    "### Datos reformateados como dataframe\n",
    "Como los datos son tabulares, se presentan en un DataFrame, para facilitar su lectura."
   ]
  },
  {
   "cell_type": "code",
   "execution_count": null,
   "id": "7e2d8a6e",
   "metadata": {},
   "outputs": [],
   "source": [
    "import pandas as pd"
   ]
  },
  {
   "cell_type": "code",
   "execution_count": null,
   "id": "d41a27d8",
   "metadata": {},
   "outputs": [],
   "source": [
    "pers_df = pd.DataFrame(pers)\n",
    "display(pers_df)\n",
    "\n",
    "print(f\"{pers_df['nombre'][0]} nació en {pers_df['año_nacimiento'][0]} en {pers_df['lugar_nacimiento'][0]}\")"
   ]
  },
  {
   "cell_type": "markdown",
   "id": "4f476f55",
   "metadata": {},
   "source": [
    "## Grafo\n",
    "Con los datos de la tabla anterior se generan tripletas (\\<sujeto\\> \\<predicado\\> \\<objeto\\>) como las siguientes:\n",
    "+ \\<Juan\\> \\<año_de_nacimiento\\> \"2020\"\n",
    "+ \\<Juan\\> \\<tiene_madre\\> \\<Ana\\>"
   ]
  },
  {
   "cell_type": "code",
   "execution_count": null,
   "id": "6b9d5e20",
   "metadata": {},
   "outputs": [],
   "source": [
    "from rdflib import Graph, Literal, URIRef, Namespace, RDF, RDFS"
   ]
  },
  {
   "cell_type": "markdown",
   "id": "2b65ad35",
   "metadata": {},
   "source": [
    "### Espacios de nombres"
   ]
  },
  {
   "cell_type": "code",
   "execution_count": null,
   "id": "56e9a197",
   "metadata": {},
   "outputs": [],
   "source": [
    "EXR = Namespace(\"http://example.org/recursos#\")\n",
    "EXP = Namespace(\"http://example.org/propiedades#\")\n",
    "\n",
    "# Recursos citados desde la lista de diccionarios 'pers'\n",
    "print(URIRef(EXR + pers[0]['nombre']))\n",
    "print(URIRef(EXP.año_nacimiento))\n",
    "print(Literal(pers[0]['año_nacimiento']))"
   ]
  },
  {
   "cell_type": "markdown",
   "id": "5195ed98",
   "metadata": {},
   "source": [
    "### Generación del grafo"
   ]
  },
  {
   "cell_type": "code",
   "execution_count": null,
   "id": "028c7d90",
   "metadata": {},
   "outputs": [],
   "source": [
    "g = Graph()\n",
    "\n",
    "for p in pers:\n",
    "    sujeto = URIRef(EXR + p['nombre'])\n",
    "    for key, value in p.items():\n",
    "        if key=='nombre':\n",
    "            pass\n",
    "        elif key=='año_nacimiento' :\n",
    "            g.add( (sujeto, URIRef(EXP + key), Literal(value)) )\n",
    "        else:\n",
    "            g.add( (sujeto, URIRef(EXP + key), URIRef(EXR + value)) )"
   ]
  },
  {
   "cell_type": "code",
   "execution_count": null,
   "id": "02ebf8ff",
   "metadata": {},
   "outputs": [],
   "source": [
    "# Serialización del grafo RDF creado, en formato Turtle.\n",
    "print(g.serialize(format='turtle'))"
   ]
  },
  {
   "cell_type": "markdown",
   "id": "50d221ec",
   "metadata": {},
   "source": [
    "### Visualización del grafo inicial\n",
    "Entre otras opciones posibles, se importa el paquete Jaal para visualizar interactivamente el grafo (en pestaña aparte). Descomente la primera línea, en caso de que no haya sido previamente instalado."
   ]
  },
  {
   "cell_type": "code",
   "execution_count": null,
   "id": "77f4c8fd",
   "metadata": {},
   "outputs": [],
   "source": [
    "#!pip install Jaal\n",
    "from jaal import Jaal\n",
    "from dash import html\n",
    "import dash_html_components as html"
   ]
  },
  {
   "cell_type": "markdown",
   "id": "ff15a509",
   "metadata": {},
   "source": [
    "Este paquete require un dataframe con al menos dos columnas (\"from\", \"to\") con los pares de nodos relacionados. La siguiente función genera ese dataframe desde el grafo RDF, mostrando sólo la parte final del URIRef de cada entidad."
   ]
  },
  {
   "cell_type": "code",
   "execution_count": null,
   "id": "e9698723",
   "metadata": {},
   "outputs": [],
   "source": [
    "def rdf2edge_df(grafo):\n",
    "    ternas = []\n",
    "    for s, p, o in grafo:\n",
    "        if isinstance(o,URIRef):\n",
    "            oout = o.fragment\n",
    "        else:\n",
    "            oout = o\n",
    "        lista_grafo.append([s.fragment,p.fragment,oout])\n",
    "    return pd.DataFrame(ternas,columns=[\"from\",\"label\",\"to\"])\n",
    "\n",
    "edge_df = rdf2edge_df(g)\n",
    "Jaal(edge_df).plot(directed=True)"
   ]
  },
  {
   "cell_type": "markdown",
   "id": "8b54d981",
   "metadata": {},
   "source": [
    "## Consultas y actualización\n",
    "RDFLib permite consultar y administrar el grafo de dos formas complementarias:\n",
    "+ mediante el lenguaje estándar de consulta y administración SPARQL\n",
    "+ mediante gestión directa y a bajo nivel de los objetos Python del grafo\n",
    "### Consultas mediante SPARQL\n",
    "Consulta SELECT: devuelve todas las coincidencias en el grafo del patrón declarado en WHERE. En este caso, cada persona de la que conste tanto su madre como su padre."
   ]
  },
  {
   "cell_type": "code",
   "execution_count": null,
   "id": "9f1a27ac",
   "metadata": {},
   "outputs": [],
   "source": [
    "consulta1='''\n",
    "  PREFIX rec: <http://example.org/recursos#>\n",
    "  PREFIX prop: <http://example.org/propiedades#>\n",
    "  SELECT ?s ?m ?p\n",
    "  WHERE {\n",
    "    ?s prop:tiene_madre ?m ;\n",
    "       prop:tiene_padre ?p .\n",
    "  }\n",
    "'''\n",
    "resultados1 = g.query(consulta1)\n",
    "\n",
    "for fila in resultados1:\n",
    "    print(f\"{fila.s}, madre: {fila.m}, padre: {fila.p}\")"
   ]
  },
  {
   "cell_type": "markdown",
   "id": "abf5f251",
   "metadata": {},
   "source": [
    "### Actualización mediante SPARQL\n",
    "Actualización (UPDATE) del grafo: permite ejecutar INSERT o DELETE sobre entidades o tripletas seleccionadas en WHERE. En este caso, para cada instancia (?s,?m,?p) en el grafo del patrón en WHERE se asigna a cada una de sus componentes la clase Persona."
   ]
  },
  {
   "cell_type": "code",
   "execution_count": null,
   "id": "43030fa5",
   "metadata": {},
   "outputs": [],
   "source": [
    "consulta2='''\n",
    "  PREFIX rec: <http://example.org/recursos#>\n",
    "  PREFIX prop: <http://example.org/propiedades#>\n",
    "  INSERT {\n",
    "    rec:Persona rdf:type rdfs:Class .\n",
    "    ?s rdf:type rec:Persona .\n",
    "    ?m rdf:type rec:Persona .\n",
    "    ?p rdf:type rec:Persona .\n",
    "  }\n",
    "  WHERE {\n",
    "    ?s prop:tiene_madre ?m ;\n",
    "       prop:tiene_padre ?p .\n",
    "  }\n",
    "'''\n",
    "g.update(consulta2)\n",
    "\n",
    "print(g.serialize(format='turtle'))"
   ]
  },
  {
   "cell_type": "markdown",
   "id": "0a46c0ff",
   "metadata": {},
   "source": [
    "### Consulta mediante métodos Python\n",
    "En este caso, se requieren todas las tripletas del grafo que tienen por propiedad 'lugar de nacimiento'."
   ]
  },
  {
   "cell_type": "code",
   "execution_count": null,
   "id": "1c00bc33",
   "metadata": {
    "scrolled": true
   },
   "outputs": [],
   "source": [
    "for s, p, o in g.triples( (None, EXP.lugar_nacimiento, None) ):\n",
    "    print(s,p,o)"
   ]
  },
  {
   "cell_type": "markdown",
   "id": "a8acedda",
   "metadata": {},
   "source": [
    "### Actualización mediante métodos Python\n",
    "Se añade una terna, que declara la clase Ciudad. Y se inserta, para cada ciudad del grafo, su declaración como instancia de la clase Ciudad."
   ]
  },
  {
   "cell_type": "code",
   "execution_count": null,
   "id": "2a1e5041",
   "metadata": {},
   "outputs": [],
   "source": [
    "g.add( (EXR.Ciudad, RDF.type, RDFS.Class) )\n",
    "\n",
    "for s, p, o in g.triples( (None, EXP.lugar_nacimiento, None) ):\n",
    "    g.add( (o, RDF.type, EXR.Ciudad) )"
   ]
  },
  {
   "cell_type": "code",
   "execution_count": null,
   "id": "18488634",
   "metadata": {
    "scrolled": true
   },
   "outputs": [],
   "source": [
    "# Comprobación: instancias de la clase Ciudad\n",
    "for s, p, o in g.triples( (None, RDF.type, EXR.Ciudad) ):\n",
    "    print(s,p,o)"
   ]
  }
 ],
 "metadata": {
  "kernelspec": {
   "display_name": "Python 3 (ipykernel)",
   "language": "python",
   "name": "python3"
  },
  "language_info": {
   "codemirror_mode": {
    "name": "ipython",
    "version": 3
   },
   "file_extension": ".py",
   "mimetype": "text/x-python",
   "name": "python",
   "nbconvert_exporter": "python",
   "pygments_lexer": "ipython3",
   "version": "3.9.13"
  }
 },
 "nbformat": 4,
 "nbformat_minor": 5
}
