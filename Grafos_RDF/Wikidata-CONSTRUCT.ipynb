{
 "cells": [
  {
   "cell_type": "markdown",
   "id": "78c820f1",
   "metadata": {},
   "source": [
    "[![Open In Colab](https://colab.research.google.com/assets/colab-badge.svg)](https://colab.research.google.com/github/jlfvindel/SW-KG/blob/main/Grafos_RDF/Wikidata-CONSTRUCT.ipynb)"
   ]
  },
  {
   "cell_type": "markdown",
   "id": "64e2d6f7",
   "metadata": {},
   "source": [
    "## Resumen de este cuaderno\n",
    "+ Se remite una consulta a Wikidata de tipo CONSTRUCT, de la que se espera un grafo como respuesta\n",
    "+ Se reciben los resultados, se presentan en formato Turtle y XML y se descargan dos ficheros en esos respectivos formatos\n",
    "+ Se construye otro grafo distinto a partir del primero mediante una consulta CONSTRUCT local"
   ]
  },
  {
   "cell_type": "code",
   "execution_count": null,
   "id": "6687cb81",
   "metadata": {},
   "outputs": [],
   "source": [
    "# Comente o descomente conforme los paquetes estén instalados\n",
    "!pip install sparqlwrapper rdflib "
   ]
  },
  {
   "cell_type": "markdown",
   "id": "042bae00",
   "metadata": {},
   "source": [
    "## Diseño de la consulta CONSTRUCT"
   ]
  },
  {
   "cell_type": "markdown",
   "id": "2c8b207c",
   "metadata": {},
   "source": [
    "### Primero, como consulta SELECT\n",
    "Aprovechando el interfaz web de consulta de Wikidata, se experimenta con una consulta SELECT previa, con las siguientes características:\n",
    "+ se acotan las entidades de interés a **los museos localizados en España**\n",
    "+ de estos ítem ?museo nos interesan todas las relaciones (museo, relacionado_por_X_con, objeto) almacenadas en Wikidata como enunciados directos; para todo tipo de relación posible del museo con todo tipo de objeto\n",
    "+ adicionalmente se solicita el tipo de la relación, es decir, qué tipo sintáctico se espera como objeto, así como la clase semántica a la que pertenece el objeto\n",
    "\n",
    "> **Esta consulta se puede ver y ejecutar externamente en** [este enlace](https://query.wikidata.org/#%23%201.%20Items%20%28%3Fmuseo%29%2C%20instancias%20de%20cualquier%20subclase%20de%20museo%20%28Q33506%29%20en%20pa%C3%ADs%20España%20%28Q29%29.%0A%23%20%20%20%20Se%20busca%20toda%20tripleta%20con%20%3Fmuseo%20como%20sujeto%3A%20%3Fmuseo%20%3FpD%20%3Fo%20.%0A%23%202.%20En%20realidad%20en%201%20se%20buscan%20tan%20sólo%20las%20tripletas%20que%20sean%20%27enunciados%20directos%27%3A%20%3Fs%20%3FpD%20%3Fo%2C%20as%C3%AD%20que%0A%23%20%20%20%20%3FpD%20debe%20cumplir%20una%20restricción.%20Si%20%3Fp%20wikibase%3AdirectClaim%20%3FpD%2C%20entonces%20%3FpD%20es%20la%20variante%20sintáctica%0A%23%20%20%20%20adecuada%20para%20ser%20usada%20en%20enunciados%20directos.%0A%23%203.%20Los%20objetos%20%3Fo%2C%20en%20caso%20de%20no%20ser%20literales%2C%20pueden%20pertenecer%20a%20alguna%20clase%0A%0ASELECT%20%20%3FmuseoLabel%20%3FpLabel%20%3FoLabel%20%20%20%20%20%20%20%20%20%0A%20%20%20%20%20%20%20%20%3Fmuseo%20%3FpD%20%3Fo%20%20%20%20%20%20%20%20%20%20%20%20%20%20%20%20%20%20%20%20%20%20%20%20%20%20%20%20%0A%20%20%20%20%20%20%20%20%3FpTipo%20%20%20%20%20%20%20%20%20%20%20%20%20%20%20%20%20%20%20%20%20%20%20%20%20%20%20%20%0A%20%20%20%20%20%20%20%20%3FoClase%20%3FoClaseLabel%20%20%20%20%20%20%20%0AWHERE%20%7B%0A%20%20%3Fp%20rdf%3Atype%20wikibase%3AProperty%20%3B%20%20%20%20%20%20%20%20%20%20%20%20%20%20%20%20%20%23%202%0A%20%20%20%20%20%20%20%20%20%20%20%20wikibase%3AdirectClaim%20%3FpD%20%3B%20%0A%20%20%20%20%20%20%20%20%20%20%20%20wikibase%3ApropertyType%20%3FpTipo.%20%0A%20%20%0A%20%20%3Fmuseo%20wdt%3AP31%2Fwdt%3AP279%2a%20wd%3AQ33506%20%3B%20%20%20%20%20%20%20%20%20%20%20%20%23%201%0A%20%20%20%20%20%20%20%20%20%20wdt%3AP17%20wd%3AQ29%20%3B%20%20%20%20%20%20%20%20%20%20%20%20%20%20%20%20%20%20%20%20%20%20%20%20%20%20%0A%20%20%20%20%20%20%20%20%20%20%3FpD%20%3Fo%20.%20%20%20%20%20%20%20%20%20%20%20%20%20%20%20%20%20%20%20%20%20%20%20%20%20%20%20%20%0A%20%20%0A%20%20OPTIONAL%20%7B%3Fo%20wdt%3AP31%20%3FoClase%7D%20.%20%20%20%20%20%20%20%20%20%20%20%20%20%20%20%20%20%23%203%0A%20%20%0A%20%20%23%20De%20cualquier%20%3Fitem%2C%20este%20servicio%20proporciona%20su%20etiqueta%20en%20%3FitemLabel%20%0A%20%20SERVICE%20wikibase%3Alabel%20%7B%20bd%3AserviceParam%20wikibase%3Alanguage%20%22es%22%2C%22ca%22%2C%22eu%22%2C%22gl%22%2C%22en%22%2C%22fr%22.%20%7D%0A%7D%0AORDER%20BY%20%3Fmuseo%0ALIMIT%20200000). La consulta devuelve una colección de n-tuplas, 9-tuplas en este caso, con tantos componente como variables solicitadas como respuesta en SELECT."
   ]
  },
  {
   "cell_type": "markdown",
   "id": "ad2ad7f9",
   "metadata": {},
   "source": [
    "### Diseño de la consulta CONSTRUCT\n",
    "También esta consulta CONSTRUCT se puede ejecutar y refinar directamente sobre el interfaz web de Wikidata. El patrón WHERE de esta consulta es similar al anterior y devuelve una n-tupla resultante cada vez que una instanciación de todas las variables de ese patrón coincidan localmente con el grafo consultado (el de todo Wikidata).\n",
    "> [Este enlace](https://query.wikidata.org/#CONSTRUCT%20%7B%0A%20%20%23%20Por%20el%20cuerpo%20del%20WHERE%2C%20los%20%3Fsujeto%20son%20museos%20en%20España.%0A%20%20%3Fsujeto%20%3FpropD%20%3Fobjeto%20%3B%0A%20%20%20%20%20%20%20%20%20%20rdfs%3Alabel%20%3FsujetoLabel%20%3B%0A%20%20%20%20%20%20%20%20%20%20rdf%3Atype%20%3FsujetoClase%20.%0A%20%20%20%0A%20%20%3Fprop%20rdf%3Atype%20wikibase%3AProperty%20%3B%0A%20%20%20%20%20%20%20%20rdfs%3Alabel%20%3FpropLabel%20%3B%0A%20%20%20%20%20%20%20%20wikibase%3AdirectClaim%20%3FpropD%20%3B%0A%20%20%20%20%20%20%20%20wikibase%3ApropertyType%20%3FpropTipoObjeto%20.%0A%20%20%0A%20%20%3Fobjeto%20rdfs%3Alabel%20%3FobjetoLabel%20%3B%0A%20%20%20%20%20%20%20%20%20%20%20%20%20%20wdt%3AP31%20%3FobjetoClase%20.%20%20%20%20%20%20%20%20%20%20%20%20%20%20%0A%7D%0AWHERE%20%7B%0A%20%20%3Fprop%20rdf%3Atype%20wikibase%3AProperty%20%3B%20%20%20%20%20%20%20%20%20%20%20%20%20%20%20%20%20%0A%20%20%20%20%20%20%20%20%20%20%20%20wikibase%3AdirectClaim%20%3FpropD%20%3B%20%20%20%20%20%20%20%20%20%20%20%20%20%0A%20%20%20%20%20%20%20%20%20%20%20%20wikibase%3ApropertyType%20%3FpropTipoObjeto.%20%0A%20%20%0A%20%20%3Fsujeto%20wdt%3AP31%2Fwdt%3AP279%2a%20wd%3AQ33506%20%3B%20%20%20%20%20%20%20%20%20%20%20%20%20%20%0A%20%20%20%20%20%20%20%20%20%20wdt%3AP31%20%3FsujetoClase%20%3B%20%20%20%20%20%20%20%20%20%20%20%20%20%20%20%20%20%20%20%20%20%0A%20%20%20%20%20%20%20%20%20%20wdt%3AP17%20wd%3AQ29%20%3B%20%20%20%20%20%20%20%20%20%20%20%20%20%20%20%20%20%20%20%20%20%20%20%20%20%20%20%0A%20%20%20%20%20%20%20%20%20%20%3FpropD%20%3Fobjeto%20.%20%20%20%20%20%20%20%20%20%20%20%20%20%20%20%20%20%20%20%20%20%20%20%20%20%20%20%0A%20%20%0A%20%20OPTIONAL%20%7B%20%20%20%20%20%20%20%20%20%20%20%20%20%20%20%20%20%20%20%20%20%20%20%20%20%20%20%20%20%20%20%20%20%20%20%20%20%20%20%20%20%0A%20%20%20%20%3Fobjeto%20wdt%3AP31%20%3FobjetoClase%20.%0A%20%20%7D%20.%20%20%20%20%20%20%20%20%20%20%0A%20%20%0A%20%20%23%20De%20cualquier%20%3Fitem%2C%20este%20servicio%20proporciona%20su%20etiqueta%20en%20%3FitemLabel%20%0A%20%20SERVICE%20wikibase%3Alabel%20%7B%20bd%3AserviceParam%20wikibase%3Alanguage%20%22es%22%2C%22ca%22%2C%22eu%22%2C%22gl%22%2C%22en%22%2C%22fr%22.%20%7D%0A%7D) **muestra la consulta CONSTRUCT, que puede ejecutarse externamente**. \n",
    "\n",
    "En la consulta SELECT anterior, cada una de esas n-tuplas resultantes se mostraban como una fila de resultados de la tabla. Las consultas CONSTRUCT **siempre devuelven tripletas (sujeto, propiedad, objeto), es decir, un grafo resultante**. Las n-tuplas de instancias que va facilitando el cuerpo del WHERE se usan para configurar el grafo tal y como se declara en el cuerpo de CONSTRUCT: con los espacios de nombre que se desee y con la relación entre entidades que se quiera. En este ejemplo, salvo la inserción de alguna tripleta nueva, se mantiene en el grafo resultante la relación que tenían las entidades en Wikidata."
   ]
  },
  {
   "cell_type": "code",
   "execution_count": 1,
   "id": "54f5296d",
   "metadata": {},
   "outputs": [],
   "source": [
    "consulta = '''\n",
    "CONSTRUCT {\n",
    "  # Por el cuerpo del WHERE, los ?sujeto son museos en España.\n",
    "  ?sujeto ?propD ?objeto ;\n",
    "          rdfs:label ?sujetoLabel ;\n",
    "          rdf:type ?sujetoClase .\n",
    "   \n",
    "  ?prop rdf:type wikibase:Property ;\n",
    "        rdfs:label ?propLabel ;\n",
    "        wikibase:directClaim ?propD ;\n",
    "        wikibase:propertyType ?propTipoObjeto .\n",
    "  \n",
    "  ?objeto rdfs:label ?objetoLabel ;\n",
    "              wdt:P31 ?objetoClase .              \n",
    "}\n",
    "WHERE {\n",
    "  ?prop rdf:type wikibase:Property ;                 \n",
    "            wikibase:directClaim ?propD ;             \n",
    "            wikibase:propertyType ?propTipoObjeto. \n",
    "  \n",
    "  ?sujeto wdt:P31/wdt:P279* wd:Q33506 ;              \n",
    "          wdt:P31 ?sujetoClase ;                     \n",
    "          wdt:P17 wd:Q29 ;                           \n",
    "          ?propD ?objeto .                           \n",
    "  \n",
    "  OPTIONAL {                                         \n",
    "    ?objeto wdt:P31 ?objetoClase .\n",
    "  } .          \n",
    "  \n",
    "  # De cualquier ?item, este servicio proporciona su etiqueta en ?itemLabel \n",
    "  SERVICE wikibase:label { bd:serviceParam wikibase:language \"es\",\"ca\",\"eu\",\"gl\",\"en\",\"fr\". }\n",
    "}\n",
    "'''"
   ]
  },
  {
   "cell_type": "markdown",
   "id": "6e756904",
   "metadata": {},
   "source": [
    "## Ejecución, recepción y presentación"
   ]
  },
  {
   "cell_type": "code",
   "execution_count": 2,
   "id": "389657c4",
   "metadata": {},
   "outputs": [],
   "source": [
    "from SPARQLWrapper import SPARQLWrapper, RDFXML, TURTLE\n",
    "from rdflib import Graph, URIRef, Literal, RDF, RDFS"
   ]
  },
  {
   "cell_type": "markdown",
   "id": "d2ce70b0",
   "metadata": {},
   "source": [
    "### Ejecución y recepción de resultados\n",
    "Se remite la consulta a Wikidata. Puede tardar algo de tiempo e incluso interrumpirse en algún caso."
   ]
  },
  {
   "cell_type": "code",
   "execution_count": 3,
   "id": "1e4f4534",
   "metadata": {},
   "outputs": [],
   "source": [
    "servidor = \"https://query.wikidata.org/sparql\" \n",
    "cliente = SPARQLWrapper(servidor)\n",
    "# Se fija el retorno a RDFXML porque se espera un grafo\n",
    "cliente.setReturnFormat(RDFXML)\n",
    "\n",
    "cliente.setQuery(consulta)\n",
    "# Ejecución de la consulta y recepción en un objeto QueryResult\n",
    "resp_obj = cliente.query()"
   ]
  },
  {
   "cell_type": "code",
   "execution_count": 4,
   "id": "a4a1153b",
   "metadata": {},
   "outputs": [
    {
     "name": "stdout",
     "output_type": "stream",
     "text": [
      "El grafo RDFLib resultante consta de 15297 tripletas\n"
     ]
    }
   ],
   "source": [
    "# Conversión a un grafo RDF internamente vía RDFLib\n",
    "resp_grafo = resp_obj.convert()\n",
    "\n",
    "print(f'El grafo RDFLib resultante consta de {len(resp_grafo)} tripletas')"
   ]
  },
  {
   "cell_type": "markdown",
   "id": "01079060",
   "metadata": {},
   "source": [
    "### Secuenciación Turtle del grafo\n",
    "El grafo RDFLib `resp_grafo` se puede secuenciar textualmente en varios formatos para ser impreso o almacenado en ficheros."
   ]
  },
  {
   "cell_type": "code",
   "execution_count": null,
   "id": "b400d8f8",
   "metadata": {},
   "outputs": [],
   "source": [
    "resp_f_turtle = resp_grafo.serialize(format=\"turtle\")\n",
    "print(resp_f_turtle[:5000])"
   ]
  },
  {
   "cell_type": "code",
   "execution_count": null,
   "id": "4f6af90e",
   "metadata": {},
   "outputs": [],
   "source": [
    "resp_f_xml = resp_grafo.serialize(format=\"xml\")\n",
    "print(resp_f_xml[:5000])"
   ]
  },
  {
   "cell_type": "markdown",
   "id": "06431841",
   "metadata": {},
   "source": [
    "## Descarga del grafo como fichero"
   ]
  },
  {
   "cell_type": "markdown",
   "id": "4cf496c6",
   "metadata": {},
   "source": [
    "### Descarga desde Google Colab\n",
    "Si este cuaderno se está ejecutando desde Google colab:"
   ]
  },
  {
   "cell_type": "code",
   "execution_count": null,
   "id": "171b49c4",
   "metadata": {},
   "outputs": [],
   "source": [
    "from google.colab import files\n",
    "\n",
    "with open('resp_f_xml.xml', 'w') as f:\n",
    "  f.write(resp_f_xml)\n",
    "files.download('resp_f_xml.xml')"
   ]
  },
  {
   "cell_type": "code",
   "execution_count": null,
   "id": "f21b4d93",
   "metadata": {},
   "outputs": [],
   "source": [
    "with open('resp_f_turtle.ttl', 'w') as f:\n",
    "  f.write(resp_f_turtle)\n",
    "files.download('resp_f_turtle.ttl')"
   ]
  },
  {
   "cell_type": "markdown",
   "id": "bf7ddcb1",
   "metadata": {},
   "source": [
    "### Descarga desde ejecución local\n",
    "Descomente y reemplace, en caso de ejecución local:"
   ]
  },
  {
   "cell_type": "code",
   "execution_count": null,
   "id": "788620e6",
   "metadata": {},
   "outputs": [],
   "source": [
    "#fichero_turtle = 'reemplace esto con el camino y el nombre del fichero .ttl'\n",
    "#resp_grafo.serialize(destination=fichero_turtle, format='turtle')"
   ]
  },
  {
   "cell_type": "code",
   "execution_count": null,
   "id": "a754f974",
   "metadata": {},
   "outputs": [],
   "source": [
    "#fichero_xml = 'reemplace esto con el camino y el nombre del fichero .xml'\n",
    "#resp_grafo.serialize(destination=fichero_xml, format='xml')"
   ]
  },
  {
   "cell_type": "markdown",
   "id": "e0098e67",
   "metadata": {},
   "source": [
    "## Consultas CONSTRUCT sobre el grafo local\n",
    "Un grafo RDFLib local puede ser consultado por dos métodos: SPARQL o mediante métodos rdflib propios. La consulta SPARQL puede ser de tipo SELECT o CONSTRUCT. En este último caso, el resultado es un nuevo grafo local RDFLib."
   ]
  },
  {
   "cell_type": "markdown",
   "id": "ceb08adb",
   "metadata": {},
   "source": [
    "### Consulta\n",
    "En WHERE: se localizan todas las propiedades ?pD con las que se van a construir enunciados directos (?museo ?pD ?o), donde ?museo se ha restringido a la entidad que tiene por etiqueta en español \"Museo del Prado\". En CONSTRUCT se replican estos resultados: todos los enunciados directos que tienen por sujeto a Museo_del_Prado, así como las descripciones de las propiedades y objetos que intervienen en esos enunciados.\n",
    "\n",
    "Esta consulta CONSTRUCT puede demorarse bastante."
   ]
  },
  {
   "cell_type": "code",
   "execution_count": null,
   "id": "47e171c8",
   "metadata": {},
   "outputs": [],
   "source": [
    "q = '''\n",
    "PREFIX rdf: <http://www.w3.org/1999/02/22-rdf-syntax-ns#>\n",
    "PREFIX rdfs: <http://www.w3.org/2000/01/rdf-schema#>\n",
    "PREFIX wd: <http://www.wikidata.org/entity/>\n",
    "PREFIX wdt: <http://www.wikidata.org/prop/direct/>\n",
    "PREFIX wikibase: <http://wikiba.se/ontology#>\n",
    "CONSTRUCT {\n",
    "    ?museo ?pD ?o ;\n",
    "           rdfs:label \"Museo del Prado\"@es .\n",
    "    ?prop rdf:type rdf:Property ;\n",
    "          wikibase:directClaim ?pD ;\n",
    "          rdfs:label ?propEtiq .\n",
    "    ?o rdfs:label ?oEtiq .\n",
    "}\n",
    "WHERE {\n",
    "   ?prop rdf:type wikibase:Property ;\n",
    "         wikibase:directClaim ?pD;\n",
    "         rdfs:label ?propEtiq .\n",
    "   ?museo rdfs:label \"Museo del Prado\"@es ;\n",
    "          ?pD ?o .\n",
    "   ?o rdfs:label ?oEtiq .\n",
    "}\n",
    "'''\n",
    "\n",
    "g_local1 = resp_grafo.query(q).graph"
   ]
  },
  {
   "cell_type": "markdown",
   "id": "09a5e888",
   "metadata": {},
   "source": [
    "### Resultados en formato Turtle"
   ]
  },
  {
   "cell_type": "code",
   "execution_count": null,
   "id": "aa26efd0",
   "metadata": {},
   "outputs": [],
   "source": [
    "g_local1_ttl = g_local1.serialize(format=\"turtle\")\n",
    "print(g_local1_ttl)"
   ]
  },
  {
   "cell_type": "markdown",
   "id": "5192bbb9",
   "metadata": {},
   "source": [
    "### Visualización de resultados"
   ]
  },
  {
   "cell_type": "markdown",
   "id": "a10b97d7",
   "metadata": {},
   "source": [
    "Se añade una función de visualización, via networkx y graphviz, que se encuentra en el siguiente cuaderno Colab: https://colab.research.google.com/github/joerg84/Graph_Powered_ML_Workshop/blob/master/Sparql.ipynb."
   ]
  },
  {
   "cell_type": "code",
   "execution_count": null,
   "id": "faa14953",
   "metadata": {},
   "outputs": [],
   "source": [
    "import networkx as nx\n",
    "import io\n",
    "import pydotplus\n",
    "from IPython.display import display, Image\n",
    "from rdflib.tools.rdf2dot import rdf2dot"
   ]
  },
  {
   "cell_type": "code",
   "execution_count": null,
   "id": "b8c4cbb7",
   "metadata": {},
   "outputs": [],
   "source": [
    "def visualiza(g):\n",
    "    stream = io.StringIO()\n",
    "    rdf2dot(g, stream, opts = {display})\n",
    "    dg = pydotplus.graph_from_dot_data(stream.getvalue())\n",
    "    png = dg.create_png()\n",
    "    display(Image(png))"
   ]
  },
  {
   "cell_type": "code",
   "execution_count": null,
   "id": "b2191de7",
   "metadata": {},
   "outputs": [],
   "source": [
    "visualiza(g_local1)"
   ]
  },
  {
   "cell_type": "markdown",
   "id": "42ca3ea0",
   "metadata": {},
   "source": [
    "## Consulta similar a CONSTRUCT mediante métodos rdflib"
   ]
  },
  {
   "cell_type": "markdown",
   "id": "b7309ed5",
   "metadata": {},
   "source": [
    "(1) Se busca la entidad que tiene por etiqueta \"Museo del Prado\" en español"
   ]
  },
  {
   "cell_type": "code",
   "execution_count": 9,
   "id": "75879a0e",
   "metadata": {},
   "outputs": [
    {
     "name": "stdout",
     "output_type": "stream",
     "text": [
      "http://www.wikidata.org/entity/Q160112\n"
     ]
    }
   ],
   "source": [
    "etiq, idioma = \"Museo del Prado\", \"es\"\n",
    "sujeto_fijo = resp_grafo.value(None, RDFS.label, Literal(etiq,lang=idioma))\n",
    "print(sujeto_fijo)"
   ]
  },
  {
   "cell_type": "markdown",
   "id": "e0676390",
   "metadata": {},
   "source": [
    "(2) Se genera un nuevo grafo y se añaden todos los enunciados directos (s,p,o) de los que es sujeto esa entidad Museo_del_Prado"
   ]
  },
  {
   "cell_type": "code",
   "execution_count": 10,
   "id": "85f6a949",
   "metadata": {},
   "outputs": [
    {
     "name": "stdout",
     "output_type": "stream",
     "text": [
      "@prefix ns1: <http://www.wikidata.org/prop/direct/> .\n",
      "@prefix xsd: <http://www.w3.org/2001/XMLSchema#> .\n",
      "\n",
      "<http://www.wikidata.org/entity/Q160112> ns1:P1015 \"90153245\"^^xsd:string ;\n",
      "    ns1:P1017 \"ADV10097072\"^^xsd:string,\n",
      "        \"ADV12006249\"^^xsd:string,\n",
      "        \"ADV12006253\"^^xsd:string ;\n",
      "    ns1:P1037 <http://www.wikidata.org/entity/Q28992858> ;\n",
      "    ns1:P112 <http://www.wikidata.org/entity/Q36234> ;\n",
      "    ns1:P1174 1175296.0,\n",
      "        3497345.0 ;\n",
      "    ns1:P1207 \"n97045519\"^^xsd:string ;\n",
      "    ns1:P1273 \"a10128128\"^^xsd:string ;\n",
      "    ns1:P1296 \"0052537\"^^xsd:string ;\n",
      "    ns1:P131 <http://www.wikidata.org/entity/Q2807> ;\n",
      "    ns1:P1329 \"+34 913 30 28 00\"^^xsd:string ;\n",
      "    ns1:P1368 \"000093261\"^^xsd:string ;\n",
      "    ns1:P1375 \"000198133\"^^xsd:string ;\n",
      "    ns1:P1417 \"topic/Prado-Museum\"^^xsd:string ;\n",
      "    ns1:P1424 <http://www.wikidata.org/entity/Q26139861> ;\n",
      "    ns1:P1435 <http://www.wikidata.org/entity/Q23712> ;\n",
      "    ns1:P1436 4.0,\n",
      "        155.0,\n",
      "        932.0,\n",
      "        981.0,\n",
      "        7825.0,\n",
      "        8637.0 ;\n",
      "    ns1:P1476 \"Museo Nacional del Prado\"@es ;\n",
      "    ns1:P154 <http://commons.wikimedia.org/wiki/Special:FilePath/Logo%20del%20Museo%20Nacional%20del%20Prado.png> ;\n",
      "    ns1:P1566 \"6452756\"^^xsd:string ;\n",
      "    ns1:P1612 \"Museo del Prado\"^^xsd:string ;\n",
      "    ns1:P1619 \"1819-11-19T00:00:00+00:00\"^^xsd:dateTime ;\n",
      "    ns1:P166 <http://www.wikidata.org/entity/Q43096299> ;\n",
      "    ns1:P1687 <http://www.wikidata.org/entity/P5321>,\n",
      "        <http://www.wikidata.org/entity/P8905> ;\n",
      "    ns1:P17 <http://www.wikidata.org/entity/Q29> ;\n",
      "    ns1:P18 <http://commons.wikimedia.org/wiki/Special:FilePath/Museo%20del%20Prado%202016%20%2825185969599%29.jpg> ;\n",
      "    ns1:P1889 <http://www.wikidata.org/entity/Q1576149> ;\n",
      "    ns1:P2002 \"museodelprado\"^^xsd:string ;\n",
      "    ns1:P2003 \"museoprado\"^^xsd:string ;\n",
      "    ns1:P2013 \"museonacionaldelprado\"^^xsd:string ;\n",
      "    ns1:P213 \"0000 0001 2294 2419\"^^xsd:string,\n",
      "        \"0000 0004 1765 4852\"^^xsd:string ;\n",
      "    ns1:P214 \"147181932\"^^xsd:string ;\n",
      "    ns1:P227 \"116443-0\"^^xsd:string ;\n",
      "    ns1:P2388 <http://www.wikidata.org/entity/Q57316266> ;\n",
      "    ns1:P2397 \"UC3jXKn8og2bSmbqLG3B32ow\"^^xsd:string ;\n",
      "    ns1:P244 \"n79064568\"^^xsd:string ;\n",
      "    ns1:P245 \"500270885\"^^xsd:string ;\n",
      "    ns1:P2555 7.5,\n",
      "        15.0 ;\n",
      "    ns1:P268 \"118666032\"^^xsd:string ;\n",
      "    ns1:P269 \"026414767\"^^xsd:string ;\n",
      "    ns1:P271 \"DA03210098\"^^xsd:string ;\n",
      "    ns1:P276 <http://www.wikidata.org/entity/Q5818335> ;\n",
      "    ns1:P2924 \"3165789\"^^xsd:string ;\n",
      "    ns1:P3025 <http://www.wikidata.org/entity/Q1197685>,\n",
      "        <http://www.wikidata.org/entity/Q132>,\n",
      "        <http://www.wikidata.org/entity/Q21282379> ;\n",
      "    ns1:P3065 \"02-A000185173\"^^xsd:string ;\n",
      "    ns1:P31 <http://www.wikidata.org/entity/Q1200957>,\n",
      "        <http://www.wikidata.org/entity/Q17431399>,\n",
      "        <http://www.wikidata.org/entity/Q207694>,\n",
      "        <http://www.wikidata.org/entity/Q43229>,\n",
      "        <http://www.wikidata.org/entity/Q570116> ;\n",
      "    ns1:P3134 \"190143\"^^xsd:string ;\n",
      "    ns1:P3219 \"musee-du-prado-madrid\"^^xsd:string ;\n",
      "    ns1:P3308 \"museo-del-prado\"^^xsd:string ;\n",
      "    ns1:P3417 \"Museo-Nacional-Del-Prado\"^^xsd:string ;\n",
      "    ns1:P3500 \"16249\"^^xsd:string ;\n",
      "    ns1:P3608 \"ESQ2828018H\"^^xsd:string ;\n",
      "    ns1:P373 \"Museo del Prado\"^^xsd:string ;\n",
      "    ns1:P3977 \"4083894\"^^xsd:string ;\n",
      "    ns1:P3987 \"215692\"^^xsd:string ;\n",
      "    ns1:P409 \"36514982\"^^xsd:string ;\n",
      "    ns1:P4146 \"390\"^^xsd:string ;\n",
      "    ns1:P4342 \"Prado\"^^xsd:string ;\n",
      "    ns1:P4431 \"200th-anniversary-of-museo-del-prado\"^^xsd:string ;\n",
      "    ns1:P5008 <http://www.wikidata.org/entity/Q6173448> ;\n",
      "    ns1:P5023 <http://www.wikidata.org/entity/Q51728721>,\n",
      "        <http://www.wikidata.org/entity/Q751734> ;\n",
      "    ns1:P527 <http://www.wikidata.org/entity/Q106622805>,\n",
      "        <http://www.wikidata.org/entity/Q107125486>,\n",
      "        <http://www.wikidata.org/entity/Q107126359>,\n",
      "        <http://www.wikidata.org/entity/Q107320704>,\n",
      "        <http://www.wikidata.org/entity/Q107338101>,\n",
      "        <http://www.wikidata.org/entity/Q111605744>,\n",
      "        <http://www.wikidata.org/entity/Q86855541>,\n",
      "        <http://www.wikidata.org/entity/Q97061534> ;\n",
      "    ns1:P571 \"1819-01-01T00:00:00+00:00\"^^xsd:dateTime ;\n",
      "    ns1:P5763 \"849\"^^xsd:string ;\n",
      "    ns1:P5785 \"998512084\"^^xsd:string ;\n",
      "    ns1:P6155 \"museo-nacional-del-prado\"^^xsd:string ;\n",
      "    ns1:P6222 \"EA0021762\"^^xsd:string ;\n",
      "    ns1:P625 \"Point(-3.692222222 40.413888888)\"^^<http://www.opengis.net/ont/geosparql#wktLiteral> ;\n",
      "    ns1:P6334 \"2C6NU0LBYXJU\"^^xsd:string ;\n",
      "    ns1:P6366 \"1280721649\"^^xsd:string ;\n",
      "    ns1:P6379 <http://www.wikidata.org/entity/Q510324> ;\n",
      "    ns1:P6385 \"kultura_i_obrazovanie/izobrazitelnoe_iskusstvo/MUZE_PRADO.html\"^^xsd:string ;\n",
      "    ns1:P646 \"/m/01hlq3\"^^xsd:string ;\n",
      "    ns1:P691 \"ko2004238697\"^^xsd:string ;\n",
      "    ns1:P7305 \"3961625\"^^xsd:string ;\n",
      "    ns1:P7561 <http://www.wikidata.org/entity/Q86117040> ;\n",
      "    ns1:P7818 \"Musée_du_Prado\"^^xsd:string ;\n",
      "    ns1:P7827 \"Museo_del_Prado\"^^xsd:string ;\n",
      "    ns1:P7832 \"Pradoko_Museoa\"^^xsd:string ;\n",
      "    ns1:P7859 \"lccn-n79064568\"^^xsd:string,\n",
      "        \"viaf-316404905\"^^xsd:string ;\n",
      "    ns1:P8034 \"494/732\"^^xsd:string ;\n",
      "    ns1:P8189 \"987007265762705171\"^^xsd:string ;\n",
      "    ns1:P8317 \"3526\"^^xsd:string ;\n",
      "    ns1:P84 <http://www.wikidata.org/entity/Q2429525> ;\n",
      "    ns1:P856 <https://www.museodelprado.es/> ;\n",
      "    ns1:P8687 142000.0,\n",
      "        1291247.0 ;\n",
      "    ns1:P8768 <https://www.museodelprado.es/en/the-collection/art-works> ;\n",
      "    ns1:P910 <http://www.wikidata.org/entity/Q7468452> ;\n",
      "    ns1:P912 <http://www.wikidata.org/entity/Q2922607> ;\n",
      "    ns1:P9226 \"museo-nacional-del-prado-1819\"^^xsd:string ;\n",
      "    ns1:P935 \"Museo del Prado\"^^xsd:string ;\n",
      "    ns1:P949 \"000096641\"^^xsd:string ;\n",
      "    ns1:P950 \"XX254080\"^^xsd:string ;\n",
      "    ns1:P9984 \"981058513968606706\"^^xsd:string .\n",
      "\n",
      "\n"
     ]
    }
   ],
   "source": [
    "g_local2 = Graph()\n",
    "# Todos los enunciados directos (s,p,o) de los que es sujeto la entidad Museo_del_Prado\n",
    "for prop, direct, propD in resp_grafo.triples( (None,URIRef('http://wikiba.se/ontology#directClaim'),None) ):\n",
    "    for s,p,o in resp_grafo.triples( (sujeto_fijo,propD,None) ):\n",
    "        g_local2.add( (s,p,o) )\n",
    "\n",
    "g_local2_ttl = g_local2.serialize(format=\"turtle\")\n",
    "print(g_local2_ttl)"
   ]
  }
 ],
 "metadata": {
  "kernelspec": {
   "display_name": "Python 3 (ipykernel)",
   "language": "python",
   "name": "python3"
  },
  "language_info": {
   "codemirror_mode": {
    "name": "ipython",
    "version": 3
   },
   "file_extension": ".py",
   "mimetype": "text/x-python",
   "name": "python",
   "nbconvert_exporter": "python",
   "pygments_lexer": "ipython3",
   "version": "3.9.13"
  }
 },
 "nbformat": 4,
 "nbformat_minor": 5
}
