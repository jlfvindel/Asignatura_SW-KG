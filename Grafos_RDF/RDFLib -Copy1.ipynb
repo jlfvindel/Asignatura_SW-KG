{
 "cells": [
  {
   "cell_type": "markdown",
   "id": "0f791c42",
   "metadata": {},
   "source": [
    "**EJECUCIÓN LOCAL**. Este cuaderno está diseñado para ser descargado y ejecutado localmente. Si no se dispone de un entorno local Jupyter, la forma más inmediata de ejecución consiste en descargarse [JupyterLab Desktop](https://github.com/jupyterlab/jupyterlab-desktop#download). Este app se instala y se ejecuta directamente, 'con un doble-click'."
   ]
  },
  {
   "cell_type": "markdown",
   "id": "803ad8f3",
   "metadata": {},
   "source": [
    "## Sobre este cuaderno\n",
    "\n",
    "1. Recopila un grafo RDF mediante una consulta CONSTRUCT a Wikidata\n",
    "2. Expone una forma de visualizarlo mediante el paquete [Jaal](https://github.com/imohitmayank/jaal)\n",
    "3. Ejecuta conexiones REST API a una instancia local de GraphDB Desktop para (1) transferir el grafo y (2) para ejecutar consultas posteriores a esa base de datos orientada a grafos"
   ]
  },
  {
   "cell_type": "markdown",
   "id": "f5dd78ed",
   "metadata": {},
   "source": [
    "\n",
    "## Datos, desde Wikidata\n",
    "Recopilamos alguna información sobre museos localizados en España, con retorno de tipo grafo; es decir, como conjunto de tripletas (sujeto,predicado,objeto). Esta consulta de tipo CONSTRUCT ya ha sido utilizada en algún otro cuaderno de esta asignatura."
   ]
  },
  {
   "cell_type": "code",
   "execution_count": null,
   "id": "e5350b2a",
   "metadata": {},
   "outputs": [],
   "source": [
    "# Comente o descomente conforme los paquetes estén instalados\n",
    "!pip install sparqlwrapper rdflib "
   ]
  },
  {
   "cell_type": "code",
   "execution_count": 1,
   "id": "e58b1826",
   "metadata": {},
   "outputs": [],
   "source": [
    "from SPARQLWrapper import SPARQLWrapper, RDFXML, TURTLE\n",
    "from rdflib import Graph, URIRef, Literal, RDF, RDFS"
   ]
  },
  {
   "cell_type": "code",
   "execution_count": 2,
   "id": "496f40ab",
   "metadata": {},
   "outputs": [],
   "source": [
    "consulta = '''\n",
    "CONSTRUCT {\n",
    "  # Por el cuerpo del WHERE, los ?sujeto son museos en España.\n",
    "  ?sujeto ?propD ?objeto ;\n",
    "          rdfs:label ?sujetoLabel ;\n",
    "          rdf:type ?sujetoClase .\n",
    "   \n",
    "  ?prop rdf:type wikibase:Property ;\n",
    "        rdfs:label ?propLabel ;\n",
    "        wikibase:directClaim ?propD ;\n",
    "        wikibase:propertyType ?propTipoObjeto .\n",
    "  \n",
    "  ?objeto rdfs:label ?objetoLabel ;\n",
    "              wdt:P31 ?objetoClase .              \n",
    "}\n",
    "WHERE {\n",
    "  ?prop rdf:type wikibase:Property ;                 \n",
    "            wikibase:directClaim ?propD ;             \n",
    "            wikibase:propertyType ?propTipoObjeto. \n",
    "  \n",
    "  ?sujeto wdt:P31/wdt:P279* wd:Q33506 ;              \n",
    "          wdt:P31 ?sujetoClase ;                     \n",
    "          wdt:P17 wd:Q29 ;                           \n",
    "          ?propD ?objeto .                           \n",
    "  \n",
    "  OPTIONAL {                                         \n",
    "    ?objeto wdt:P31 ?objetoClase .\n",
    "  } .          \n",
    "  \n",
    "  # De cualquier ?item, este servicio proporciona su etiqueta en ?itemLabel \n",
    "  SERVICE wikibase:label { bd:serviceParam wikibase:language \"es\",\"ca\",\"eu\",\"gl\",\"en\",\"fr\". }\n",
    "}\n",
    "'''"
   ]
  },
  {
   "cell_type": "code",
   "execution_count": 3,
   "id": "9837f645",
   "metadata": {},
   "outputs": [],
   "source": [
    "servidor = \"https://query.wikidata.org/sparql\" \n",
    "cliente = SPARQLWrapper(servidor)\n",
    "cliente.setReturnFormat(RDFXML)\n",
    "\n",
    "cliente.setQuery(consulta)\n",
    "resp_obj = cliente.query()"
   ]
  },
  {
   "cell_type": "code",
   "execution_count": 4,
   "id": "00e7889e",
   "metadata": {},
   "outputs": [
    {
     "name": "stdout",
     "output_type": "stream",
     "text": [
      "@prefix geo: <http://www.opengis.net/ont/geosparql#> .\n",
      "@prefix rdfs: <http://www.w3.org/2000/01/rdf-schema#> .\n",
      "@prefix wd: <http://www.wikidata.org/entity/> .\n",
      "@prefix wdt: <http://www.wikidata.org/prop/direct/> .\n",
      "@prefix wikibase: <http://wikiba.se/ontology#> .\n",
      "@prefix xsd: <http://www.w3.org/2001/XMLSchema#> .\n",
      "\n",
      "wd:P1004 a wikibase:Property ;\n",
      "    rdfs:label \"identificador de lugar MusicBrainz\"@es ;\n",
      "    wikibase:directClaim wdt:P1004 ;\n",
      "    wikibase:propertyType wikibase:ExternalId .\n",
      "\n",
      "wd:P1005 a wikibase:Property ;\n",
      "    rdfs:label \"identificador PTBNP\"@es ;\n",
      "    wikibase:directClaim wdt:P1005 ;\n",
      "    wikibase:propertyType wikibase:ExternalId .\n",
      "\n",
      "wd:P101 a wikibase:Property ;\n",
      "    rdfs:label \"campo de trabajo\"@es ;\n",
      "    wikibase:directClaim wdt:P101 ;\n",
      "    wikibase:propertyType wikibase:WikibaseItem .\n",
      "\n",
      "wd:P1015 a wikibase:Property ;\n",
      "    rdfs:label \"identificador BIBSYS\"@es ;\n",
      "    wikibase:directClaim wdt:P1015 ;\n",
      "    wikibase:propertyType wikibase:ExternalId .\n",
      "\n",
      "wd:P1017 a wikibase:Property ;\n",
      "    rdfs:label \"identificador BAV\"@es ;\n",
      "    wikibase:directClaim wdt:P1017 ;\n",
      "    wikibase:propertyType wikibase:ExternalId .\n",
      "\n",
      "wd:P1030 rdfs:label \"iluminación característica de faro\"@es ;\n",
      "    wikibase:directClaim wdt:P1030 .\n",
      "\n",
      "wd:P1037 a wikibase:Property ;\n",
      "    rdfs:label \"gerente/director\"@es ;\n",
      "    wikibase:directClaim wdt:P1037 ;\n",
      "    wikibase:propertyType wikibase:WikibaseItem .\n",
      "\n",
      "wd:P10565 a wikibase:Property ;\n",
      "    rdfs:label \"identificador de la Enciclopedia de la China (tercera edición)\"@es ;\n",
      "    wikibase:directClaim wdt:P10565 ;\n",
      "    wikibase:propertyType wikibase:ExternalId .\n",
      "\n",
      "wd:P106 rdfs:label \"ocupación\"@es ;\n",
      "    wikibase:directClaim wdt:P106 .\n",
      "\n",
      "wd:P10689 a wikibase:Property ;\n",
      "    rdfs:label \"objeto de OpenStreetMap\"@es ;\n",
      "    wikibase:directClaim wdt:P10689 ;\n",
      "    wikibase:propertyType wikibase:ExternalId .\n",
      "\n",
      "wd:P10834 a wikibase:Property ;\n",
      "    rdfs:label \"identificador BVMC de organización\"@es ;\n",
      "    wikibase:directClaim wdt:P10834 ;\n",
      "    wikibase:propertyType wikibase:ExternalId .\n",
      "\n",
      "wd:P1101 a wikibase:Property ;\n",
      "    rdfs:label \"pisos sobre el suelo\"@es ;\n",
      "    wikibase:directClaim wdt:P1101 ;\n",
      "    wikibase:propertyType wikibase:Quantity .\n",
      "\n",
      "wd:P11101 rdfs:label \"imagen de modelo\"@es ;\n",
      "    wikibase:directClaim wdt:P11101 .\n",
      "\n",
      "wd:P112 a wikibase:Property ;\n",
      "    rdfs:label \"fundador\"@es ;\n",
      "    wikibase:directClaim wdt:P112 ;\n",
      "    wikibase:propertyType wikibase:WikibaseItem .\n",
      "\n",
      "wd:P1128 a wikibase:Property ;\n",
      "    rdfs:label \"empleados\"@es ;\n",
      "    wikibase:directClaim wdt:P1128 ;\n",
      "    wikibase:propertyType wikibase:Quantity .\n",
      "\n",
      "wd:P1139 rdfs:label \"pisos subterráneos\"@es ;\n",
      "    wikibase:directClaim wdt:P1139 .\n",
      "\n",
      "wd:P1174 a wikibase:Property ;\n",
      "    rdfs:label \"visitantes anuales\"@es ;\n",
      "    wikibase:directClaim wdt:P1174 ;\n",
      "    wikibase:propertyType wikibase:Quantity .\n",
      "\n",
      "wd:P1207 a wikibase:Property ;\n",
      "    rdfs:label \"identificador NUKAT\"@es ;\n",
      "    wikibase:directClaim wdt:P1207 ;\n",
      "    wikibase:propertyType wikibase:ExternalId .\n",
      "\n",
      "wd:P126 a wikibase:Property ;\n",
      "    rdfs:label \"mantenido por\"@es ;\n",
      "    wikibase:directClaim wdt:P126 ;\n",
      "    wikibase:propertyType wikibase:WikibaseItem .\n",
      "\n",
      "wd:P1269 rdfs:label \"faceta de\"@es ;\n",
      "    wikibase:directClaim wdt:P1269 .\n",
      "\n",
      "wd:P127 a wikibase:Property ;\n",
      "    rdfs:label \"propiedad de\"@es ;\n",
      "    wikibase:directClaim wdt:P127 ;\n",
      "    wikibase:propertyType wikibase:WikibaseItem .\n",
      "\n",
      "wd:P1273 a wikibase:Property ;\n",
      "    rdfs:label \"identificador CANTIC (antiguo)\"@es ;\n",
      "    wikibase:directClaim wdt:P1273 ;\n",
      "    wikibase:propertyType wikibase:ExternalId .\n",
      "\n",
      "wd:P1296 a wikibase:Property ;\n",
      "    rdfs:label \"identificador de la Gran Enciclopedia Catalana\"@es ;\n",
      "    wikibase:directClaim wdt:P1296 ;\n",
      "    wikibase:propertyType wikibase:ExternalId .\n",
      "\n",
      "wd:P1299 a wikibase:Property ;\n",
      "    rdfs:label \"representado por\"@es ;\n",
      "    wikibase:directClaim wdt:P1299 ;\n",
      "    wikibase:propertyType wikibase:WikibaseItem .\n",
      "\n",
      "wd:P131 a wikibase:Property ;\n",
      "    rdfs:label \"situado en la entidad territorial administrativa\"@es ;\n",
      "    wikibase:directClaim wdt:P131 ;\n",
      "    wikibase:propertyType wikibase:WikibaseItem .\n",
      "\n",
      "wd:P1315 a wikibase:Property ;\n",
      "    rdfs:label \"identificador NLA Trove\"@es ;\n",
      "    wikibase:directClaim wdt:P1315 ;\n",
      "    wikibase:propertyType wikibase:ExternalId .\n",
      "\n",
      "wd:P1325 a wikibase:Property ;\n",
      "    rdfs:label \"datos externos disponibles en\"@es ;\n",
      "    wikibase:directClaim wdt:P1325 ;\n",
      "    wikibase:propertyType wikibase:Url .\n",
      "\n",
      "wd:P1329 a wikibase:Property ;\n",
      "    rdfs:label \"número de teléfono\"@es ;\n",
      "    wikibase:directClaim wdt:P1329 ;\n",
      "    wikibase:propertyType wikibase:String .\n",
      "\n",
      "wd:P1343 a wikibase:Property ;\n",
      "    rdfs:label \"descrito en\"@es ;\n",
      "    wikibase:directClaim wdt:P1343 ;\n",
      "    wikibase:propertyType wikibase:WikibaseItem .\n",
      "\n",
      "wd:P135 a wikibase:Property ;\n",
      "    rdfs:label \"movimiento\"@es ;\n",
      "    wikibase:directClaim wdt:P135 ;\n",
      "    wikibase:propertyType wikibase:WikibaseItem .\n",
      "\n",
      "wd:P136 a wikibase:Property ;\n",
      "    rdfs:label \"género\"@es ;\n",
      "    wikibase:directClaim wdt:P136 ;\n",
      "    wikibase:propertyType wikibase:WikibaseItem .\n",
      "\n",
      "wd:P1365 a wikibase:Property ;\n",
      "    rdfs:label \"reemplaza a\n"
     ]
    }
   ],
   "source": [
    "resp_grafo = resp_obj.convert()\n",
    "resp_grafo_ttl = resp_grafo.serialize(format=\"turtle\")\n",
    "print(resp_grafo_ttl[:5000])"
   ]
  },
  {
   "cell_type": "markdown",
   "id": "9ade63b5",
   "metadata": {},
   "source": [
    "### Datos reformateados como dataframe\n",
    "Como los datos son tabulares, se presentan en un DataFrame, para facilitar su lectura."
   ]
  },
  {
   "cell_type": "code",
   "execution_count": null,
   "id": "7e2d8a6e",
   "metadata": {},
   "outputs": [],
   "source": [
    "import pandas as pd"
   ]
  },
  {
   "cell_type": "code",
   "execution_count": null,
   "id": "d41a27d8",
   "metadata": {
    "scrolled": false
   },
   "outputs": [],
   "source": [
    "pers_df = pd.DataFrame(pers)\n",
    "display(pers_df)\n",
    "\n",
    "print(f\"{pers_df['nombre'][0]} nació en {pers_df['año_nacimiento'][0]} en {pers_df['lugar_nacimiento'][0]}\")"
   ]
  },
  {
   "cell_type": "code",
   "execution_count": null,
   "id": "aae97586",
   "metadata": {},
   "outputs": [],
   "source": [
    "ejes_df = pd.DataFrame(pers_df['nombre'],'lugar_nacimiento',pers_df['lugar_nacimiento'])\n",
    "display(ejes_df)"
   ]
  },
  {
   "cell_type": "code",
   "execution_count": null,
   "id": "822aabde",
   "metadata": {},
   "outputs": [],
   "source": [
    "# import\n",
    "from jaal import Jaal\n",
    "from dash import html\n",
    "from jaal.datasets import load_got\n",
    "# load the data\n",
    "edge_df, node_df = load_got()\n",
    "display(edge_df)\n",
    "display(node_df)"
   ]
  },
  {
   "cell_type": "code",
   "execution_count": null,
   "id": "703f2f78",
   "metadata": {},
   "outputs": [],
   "source": [
    "# init Jaal and run server\n",
    "Jaal(edge_df, node_df).plot()"
   ]
  },
  {
   "cell_type": "markdown",
   "id": "4f476f55",
   "metadata": {},
   "source": [
    "## Grafo\n",
    "Con los datos de la tabla anterior se generan tripletas (\\<sujeto\\> \\<predicado\\> \\<objeto\\>) como las siguientes:\n",
    "+ \\<Juan\\> \\<año_de_nacimiento\\> \"2020\"\n",
    "+ \\<Juan\\> \\<tiene_madre\\> \\<Ana\\>"
   ]
  },
  {
   "cell_type": "code",
   "execution_count": null,
   "id": "6b9d5e20",
   "metadata": {},
   "outputs": [],
   "source": [
    "from rdflib import Graph, Literal, URIRef, Namespace, RDF, RDFS"
   ]
  },
  {
   "cell_type": "markdown",
   "id": "2b65ad35",
   "metadata": {},
   "source": [
    "### Espacios de nombres"
   ]
  },
  {
   "cell_type": "code",
   "execution_count": null,
   "id": "56e9a197",
   "metadata": {},
   "outputs": [],
   "source": [
    "EXR = Namespace(\"http://example.org/recursos#\")\n",
    "EXP = Namespace(\"http://example.org/propiedades#\")\n",
    "\n",
    "# Recursos citados desde la lista de diccionarios 'pers'\n",
    "print(URIRef(EXR + pers[0]['nombre']))\n",
    "print(URIRef(EXP.año_nacimiento))\n",
    "print(Literal(pers[0]['año_nacimiento']))"
   ]
  },
  {
   "cell_type": "markdown",
   "id": "5195ed98",
   "metadata": {},
   "source": [
    "### Generación del grafo"
   ]
  },
  {
   "cell_type": "code",
   "execution_count": null,
   "id": "028c7d90",
   "metadata": {},
   "outputs": [],
   "source": [
    "g = Graph()\n",
    "\n",
    "for p in pers:\n",
    "    sujeto = URIRef(EXR + p['nombre'])\n",
    "    for key, value in p.items():\n",
    "        if key=='nombre':\n",
    "            pass\n",
    "        elif key=='año_nacimiento' :\n",
    "            g.add( (sujeto, URIRef(EXP + key), Literal(value)) )\n",
    "        else:\n",
    "            g.add( (sujeto, URIRef(EXP + key), URIRef(EXR + value)) )"
   ]
  },
  {
   "cell_type": "code",
   "execution_count": null,
   "id": "02ebf8ff",
   "metadata": {},
   "outputs": [],
   "source": [
    "# Serialización del grafo RDF creado, en formato Turtle.\n",
    "g_ttl = g.serialize(format='turtle')\n",
    "g_ttl"
   ]
  },
  {
   "cell_type": "markdown",
   "id": "50d221ec",
   "metadata": {},
   "source": [
    "### Visualización del grafo inicial\n",
    "Entre otras opciones posibles, se importa el paquete Jaal para visualizar interactivamente el grafo (en pestaña aparte). Descomente la primera línea, en caso de que no haya sido previamente instalado."
   ]
  },
  {
   "cell_type": "code",
   "execution_count": null,
   "id": "77f4c8fd",
   "metadata": {},
   "outputs": [],
   "source": [
    "#!pip install Jaal\n",
    "from jaal import Jaal\n",
    "from dash import html\n",
    "import dash_html_components as html"
   ]
  },
  {
   "cell_type": "markdown",
   "id": "ff15a509",
   "metadata": {},
   "source": [
    "Este paquete require un dataframe con al menos dos columnas (\"from\", \"to\") con los pares de nodos relacionados. La siguiente función genera ese dataframe desde el grafo RDF, mostrando sólo la parte final del URIRef de cada entidad."
   ]
  },
  {
   "cell_type": "code",
   "execution_count": null,
   "id": "e9698723",
   "metadata": {
    "scrolled": true
   },
   "outputs": [],
   "source": [
    "def rdf2edge_df(grafo):\n",
    "    ternas = []\n",
    "    for s, p, o in grafo:\n",
    "        if isinstance(o,URIRef):\n",
    "            oout = o.fragment\n",
    "        else:\n",
    "            oout = o\n",
    "        ternas.append([s.fragment,p.fragment,oout])\n",
    "    return pd.DataFrame(ternas,columns=[\"from\",\"label\",\"to\"])\n",
    "\n",
    "edge_df = rdf2edge_df(resp_grafo)\n",
    "display(edge_df)"
   ]
  },
  {
   "cell_type": "code",
   "execution_count": null,
   "id": "48c569bd",
   "metadata": {},
   "outputs": [],
   "source": [
    "edge_df.info()"
   ]
  },
  {
   "cell_type": "code",
   "execution_count": null,
   "id": "1b158569",
   "metadata": {},
   "outputs": [],
   "source": [
    "Jaal(edge_df).plot(directed=True)"
   ]
  },
  {
   "cell_type": "markdown",
   "id": "8b54d981",
   "metadata": {},
   "source": [
    "## Consultas y actualización\n",
    "RDFLib permite consultar y administrar el grafo de dos formas complementarias:\n",
    "+ mediante el lenguaje estándar de consulta y administración SPARQL\n",
    "+ mediante gestión directa y a bajo nivel de los objetos Python del grafo\n",
    "### Consultas mediante SPARQL\n",
    "Consulta SELECT: devuelve todas las coincidencias en el grafo del patrón declarado en WHERE. En este caso, cada persona de la que conste tanto su madre como su padre."
   ]
  },
  {
   "cell_type": "code",
   "execution_count": null,
   "id": "9f1a27ac",
   "metadata": {},
   "outputs": [],
   "source": [
    "consulta1='''\n",
    "  PREFIX rec: <http://example.org/recursos#>\n",
    "  PREFIX prop: <http://example.org/propiedades#>\n",
    "  SELECT ?s ?m ?p\n",
    "  WHERE {\n",
    "    ?s prop:tiene_madre ?m ;\n",
    "       prop:tiene_padre ?p .\n",
    "  }\n",
    "'''\n",
    "resultados1 = g.query(consulta1)\n",
    "\n",
    "for fila in resultados1:\n",
    "    print(f\"{fila.s}, madre: {fila.m}, padre: {fila.p}\")"
   ]
  },
  {
   "cell_type": "markdown",
   "id": "abf5f251",
   "metadata": {},
   "source": [
    "### Actualización mediante SPARQL\n",
    "Actualización (UPDATE) del grafo: permite ejecutar INSERT o DELETE sobre entidades o tripletas seleccionadas en WHERE. En este caso, para cada instancia (?s,?m,?p) en el grafo del patrón en WHERE se asigna a cada una de sus componentes la clase Persona."
   ]
  },
  {
   "cell_type": "code",
   "execution_count": null,
   "id": "43030fa5",
   "metadata": {
    "scrolled": true
   },
   "outputs": [],
   "source": [
    "consulta2='''\n",
    "  PREFIX rec: <http://example.org/recursos#>\n",
    "  PREFIX prop: <http://example.org/propiedades#>\n",
    "  INSERT {\n",
    "    rec:Persona rdf:type rdfs:Class .\n",
    "    ?s rdf:type rec:Persona .\n",
    "    ?m rdf:type rec:Persona .\n",
    "    ?p rdf:type rec:Persona .\n",
    "  }\n",
    "  WHERE {\n",
    "    ?s prop:tiene_madre ?m ;\n",
    "       prop:tiene_padre ?p .\n",
    "  }\n",
    "'''\n",
    "g.update(consulta2)\n",
    "\n",
    "#print(g.serialize(format='turtle'))\n",
    "g.serialize(destination='g_ttl.ttl', format='turtle')"
   ]
  },
  {
   "cell_type": "code",
   "execution_count": null,
   "id": "d788178a",
   "metadata": {},
   "outputs": [],
   "source": [
    "g_ttl"
   ]
  },
  {
   "cell_type": "code",
   "execution_count": null,
   "id": "a00492c3",
   "metadata": {},
   "outputs": [],
   "source": [
    "import io\n",
    "r_io = io.StringIO(g.serialize(format='turtle'))\n",
    "print(type(r_io))"
   ]
  },
  {
   "cell_type": "markdown",
   "id": "0a46c0ff",
   "metadata": {},
   "source": [
    "### Consulta mediante métodos Python\n",
    "En este caso, se requieren todas las tripletas del grafo que tienen por propiedad 'lugar de nacimiento'."
   ]
  },
  {
   "cell_type": "code",
   "execution_count": null,
   "id": "1c00bc33",
   "metadata": {
    "scrolled": true
   },
   "outputs": [],
   "source": [
    "for s, p, o in g.triples( (None, EXP.lugar_nacimiento, None) ):\n",
    "    print(s,p,o)"
   ]
  },
  {
   "cell_type": "markdown",
   "id": "a8acedda",
   "metadata": {},
   "source": [
    "### Actualización mediante métodos Python\n",
    "Se añade una terna, que declara la clase Ciudad. Y se inserta, para cada ciudad del grafo, su declaración como instancia de la clase Ciudad."
   ]
  },
  {
   "cell_type": "code",
   "execution_count": null,
   "id": "2a1e5041",
   "metadata": {},
   "outputs": [],
   "source": [
    "g.add( (EXR.Ciudad, RDF.type, RDFS.Class) )\n",
    "\n",
    "for s, p, o in g.triples( (None, EXP.lugar_nacimiento, None) ):\n",
    "    g.add( (o, RDF.type, EXR.Ciudad) )"
   ]
  },
  {
   "cell_type": "code",
   "execution_count": null,
   "id": "18488634",
   "metadata": {
    "scrolled": true
   },
   "outputs": [],
   "source": [
    "# Comprobación: instancias de la clase Ciudad\n",
    "for s, p, o in g.triples( (None, RDF.type, EXR.Ciudad) ):\n",
    "    print(s,p,o)"
   ]
  },
  {
   "cell_type": "code",
   "execution_count": null,
   "id": "24524274",
   "metadata": {},
   "outputs": [],
   "source": [
    "gio = io.StringIO()\n",
    "gio.write(g_ttl)\n",
    "print(type(gio))"
   ]
  },
  {
   "cell_type": "code",
   "execution_count": null,
   "id": "0e349895",
   "metadata": {},
   "outputs": [],
   "source": [
    "giob = io.BytesIO()\n",
    "giob.write(g_ttl.encode('utf-8'))\n",
    "print(type(giob))"
   ]
  },
  {
   "cell_type": "code",
   "execution_count": null,
   "id": "2b299b61",
   "metadata": {},
   "outputs": [],
   "source": [
    "g_ttl_e = g.serialize(format=\"turtle\", encoding=\"utf-8\")\n",
    "type(g_ttl_e)"
   ]
  },
  {
   "cell_type": "code",
   "execution_count": null,
   "id": "e84264de",
   "metadata": {},
   "outputs": [],
   "source": [
    "jlj = open('g_ttl.ttl','rb')\n",
    "type (jlj)"
   ]
  },
  {
   "cell_type": "code",
   "execution_count": null,
   "id": "92fc3720",
   "metadata": {},
   "outputs": [],
   "source": [
    "# FUNCIONA\n",
    "import requests\n",
    "\n",
    "headers = {\n",
    "  'Content-Type': 'application/x-turtle',\n",
    "  'Accept': 'application/json'\n",
    "}\n",
    "\n",
    "with open('g_ttl.ttl', 'rb') as f:\n",
    "  requests.post('http://localhost:7200/repositories/parentesco/statements', data=f, headers=headers)"
   ]
  },
  {
   "cell_type": "code",
   "execution_count": null,
   "id": "c5b470da",
   "metadata": {},
   "outputs": [],
   "source": [
    "# FUNCIONA\n",
    "# requiere que g_ttl_e se haya serializado con encoding='utf-8' para generar bytes\n",
    "headers = {\n",
    "  'Content-Type': 'application/x-turtle',\n",
    "  'Accept': 'application/json'\n",
    "}\n",
    "\n",
    "requests.post('http://localhost:7200/repositories/parentesco2/statements', data=g_ttl_e, headers=headers)"
   ]
  },
  {
   "cell_type": "code",
   "execution_count": null,
   "id": "0e1d699e",
   "metadata": {},
   "outputs": [],
   "source": [
    "#graph.serialize(my_url, format='application/rdf+xml')\n",
    "#import requests\n",
    "#import io\n",
    "import sys\n",
    "\n",
    "headers = {\n",
    "  'Content-Type': 'application/x+turtle',\n",
    "  'Accept': 'application/json'\n",
    "}\n",
    "\n",
    "requests.post('http://localhost:7200/repositories/parentesco/statements', data=r_io, headers=headers)"
   ]
  },
  {
   "cell_type": "code",
   "execution_count": null,
   "id": "fb15882e",
   "metadata": {},
   "outputs": [],
   "source": [
    "!curl --help"
   ]
  },
  {
   "cell_type": "code",
   "execution_count": null,
   "id": "53bf83fb",
   "metadata": {},
   "outputs": [],
   "source": []
  }
 ],
 "metadata": {
  "kernelspec": {
   "display_name": "Python 3 (ipykernel)",
   "language": "python",
   "name": "python3"
  },
  "language_info": {
   "codemirror_mode": {
    "name": "ipython",
    "version": 3
   },
   "file_extension": ".py",
   "mimetype": "text/x-python",
   "name": "python",
   "nbconvert_exporter": "python",
   "pygments_lexer": "ipython3",
   "version": "3.9.13"
  }
 },
 "nbformat": 4,
 "nbformat_minor": 5
}
