{
 "cells": [
  {
   "cell_type": "markdown",
   "id": "803ad8f3",
   "metadata": {},
   "source": [
    "# RDFLib\n",
    "\n",
    "1. Uso de `rdflib` para generar un grafo RDF a partir de datos\n",
    "2. Consulta y administración del grafo, tanto con SPARQL como con métodos propios de rdflib\n",
    "3. Visualización del grafo mediante networkx\n",
    "\n",
    "[https://rdflib.readthedocs.io/en/stable/index.html](https://rdflib.readthedocs.io/en/stable/index.html)"
   ]
  },
  {
   "cell_type": "markdown",
   "id": "f5dd78ed",
   "metadata": {},
   "source": [
    "\n",
    "## Datos\n",
    "Lo usual es partir de un fichero o de una consulta que devuelven un dataset. Para este ejemplo sencillo se parte de una pequeña lista de diccionarios.\n",
    "### Datos iniciales"
   ]
  },
  {
   "cell_type": "code",
   "execution_count": 1,
   "id": "496f40ab",
   "metadata": {},
   "outputs": [
    {
     "name": "stdout",
     "output_type": "stream",
     "text": [
      "Marcos nació en 1962 en Salamanca\n"
     ]
    }
   ],
   "source": [
    "pers = [ \n",
    "    {'nombre':'Marcos', 'año_nacimiento':'1962', 'lugar_nacimiento':'Salamanca', 'tiene_madre':'Belén', 'tiene_padre':'Ángel'},\n",
    "    {'nombre':'Arturo', 'año_nacimiento':'1966', 'lugar_nacimiento':'Salamanca', 'tiene_madre':'Belén', 'tiene_padre':'Ángel'},\n",
    "    {'nombre':'Pedro', 'año_nacimiento':'1979', 'lugar_nacimiento':'Badajoz', 'tiene_madre':'Inés', 'tiene_padre':'Pablo'},\n",
    "    {'nombre':'Luis', 'año_nacimiento':'1984', 'lugar_nacimiento':'Madrid', 'tiene_madre':'Isabel', 'tiene_padre':'Jorge'},\n",
    "    {'nombre':'Ana', 'año_nacimiento':'1982', 'lugar_nacimiento':'Madrid', 'tiene_madre':'Isabel', 'tiene_padre':'Jorge'},\n",
    "    {'nombre':'Sonia', 'año_nacimiento':'1980', 'lugar_nacimiento':'Valencia', 'tiene_madre':'María', 'tiene_padre':'Fernando'},\n",
    "    {'nombre':'Begoña', 'año_nacimiento':'2010', 'lugar_nacimiento':'Madrid', 'tiene_madre':'Sonia', 'tiene_padre':'Pedro'},\n",
    "    {'nombre':'Marta', 'año_nacimiento':'2015', 'lugar_nacimiento':'Soria', 'tiene_madre':'Ana', 'tiene_padre':'Arturo'},\n",
    "    {'nombre':'Juan', 'año_nacimiento':'2020', 'lugar_nacimiento':'Teruel', 'tiene_madre':'Ana', 'tiene_padre':'Pedro'} ]\n",
    "\n",
    "print(f\"{pers[0]['nombre']} nació en {pers[0]['año_nacimiento']} en {pers[0]['lugar_nacimiento']}\")"
   ]
  },
  {
   "cell_type": "markdown",
   "id": "9ade63b5",
   "metadata": {},
   "source": [
    "### Datos reformateados como dataframe\n",
    "Como los datos son tabulares, se presentan en un DataFrame, para facilitar su lectura."
   ]
  },
  {
   "cell_type": "code",
   "execution_count": 2,
   "id": "7e2d8a6e",
   "metadata": {},
   "outputs": [],
   "source": [
    "import pandas as pd"
   ]
  },
  {
   "cell_type": "code",
   "execution_count": 3,
   "id": "d41a27d8",
   "metadata": {
    "scrolled": false
   },
   "outputs": [
    {
     "data": {
      "text/html": [
       "<div>\n",
       "<style scoped>\n",
       "    .dataframe tbody tr th:only-of-type {\n",
       "        vertical-align: middle;\n",
       "    }\n",
       "\n",
       "    .dataframe tbody tr th {\n",
       "        vertical-align: top;\n",
       "    }\n",
       "\n",
       "    .dataframe thead th {\n",
       "        text-align: right;\n",
       "    }\n",
       "</style>\n",
       "<table border=\"1\" class=\"dataframe\">\n",
       "  <thead>\n",
       "    <tr style=\"text-align: right;\">\n",
       "      <th></th>\n",
       "      <th>nombre</th>\n",
       "      <th>año_nacimiento</th>\n",
       "      <th>lugar_nacimiento</th>\n",
       "      <th>tiene_madre</th>\n",
       "      <th>tiene_padre</th>\n",
       "    </tr>\n",
       "  </thead>\n",
       "  <tbody>\n",
       "    <tr>\n",
       "      <th>0</th>\n",
       "      <td>Marcos</td>\n",
       "      <td>1962</td>\n",
       "      <td>Salamanca</td>\n",
       "      <td>Belén</td>\n",
       "      <td>Ángel</td>\n",
       "    </tr>\n",
       "    <tr>\n",
       "      <th>1</th>\n",
       "      <td>Arturo</td>\n",
       "      <td>1966</td>\n",
       "      <td>Salamanca</td>\n",
       "      <td>Belén</td>\n",
       "      <td>Ángel</td>\n",
       "    </tr>\n",
       "    <tr>\n",
       "      <th>2</th>\n",
       "      <td>Pedro</td>\n",
       "      <td>1979</td>\n",
       "      <td>Badajoz</td>\n",
       "      <td>Inés</td>\n",
       "      <td>Pablo</td>\n",
       "    </tr>\n",
       "    <tr>\n",
       "      <th>3</th>\n",
       "      <td>Luis</td>\n",
       "      <td>1984</td>\n",
       "      <td>Madrid</td>\n",
       "      <td>Isabel</td>\n",
       "      <td>Jorge</td>\n",
       "    </tr>\n",
       "    <tr>\n",
       "      <th>4</th>\n",
       "      <td>Ana</td>\n",
       "      <td>1982</td>\n",
       "      <td>Madrid</td>\n",
       "      <td>Isabel</td>\n",
       "      <td>Jorge</td>\n",
       "    </tr>\n",
       "    <tr>\n",
       "      <th>5</th>\n",
       "      <td>Sonia</td>\n",
       "      <td>1980</td>\n",
       "      <td>Valencia</td>\n",
       "      <td>María</td>\n",
       "      <td>Fernando</td>\n",
       "    </tr>\n",
       "    <tr>\n",
       "      <th>6</th>\n",
       "      <td>Begoña</td>\n",
       "      <td>2010</td>\n",
       "      <td>Madrid</td>\n",
       "      <td>Sonia</td>\n",
       "      <td>Pedro</td>\n",
       "    </tr>\n",
       "    <tr>\n",
       "      <th>7</th>\n",
       "      <td>Marta</td>\n",
       "      <td>2015</td>\n",
       "      <td>Soria</td>\n",
       "      <td>Ana</td>\n",
       "      <td>Arturo</td>\n",
       "    </tr>\n",
       "    <tr>\n",
       "      <th>8</th>\n",
       "      <td>Juan</td>\n",
       "      <td>2020</td>\n",
       "      <td>Teruel</td>\n",
       "      <td>Ana</td>\n",
       "      <td>Pedro</td>\n",
       "    </tr>\n",
       "  </tbody>\n",
       "</table>\n",
       "</div>"
      ],
      "text/plain": [
       "   nombre año_nacimiento lugar_nacimiento tiene_madre tiene_padre\n",
       "0  Marcos           1962        Salamanca       Belén       Ángel\n",
       "1  Arturo           1966        Salamanca       Belén       Ángel\n",
       "2   Pedro           1979          Badajoz        Inés       Pablo\n",
       "3    Luis           1984           Madrid      Isabel       Jorge\n",
       "4     Ana           1982           Madrid      Isabel       Jorge\n",
       "5   Sonia           1980         Valencia       María    Fernando\n",
       "6  Begoña           2010           Madrid       Sonia       Pedro\n",
       "7   Marta           2015            Soria         Ana      Arturo\n",
       "8    Juan           2020           Teruel         Ana       Pedro"
      ]
     },
     "metadata": {},
     "output_type": "display_data"
    },
    {
     "name": "stdout",
     "output_type": "stream",
     "text": [
      "Marcos nació en 1962 en Salamanca\n"
     ]
    }
   ],
   "source": [
    "pers_df = pd.DataFrame(pers)\n",
    "display(pers_df)\n",
    "\n",
    "print(f\"{pers_df['nombre'][0]} nació en {pers_df['año_nacimiento'][0]} en {pers_df['lugar_nacimiento'][0]}\")"
   ]
  },
  {
   "cell_type": "code",
   "execution_count": 4,
   "id": "aae97586",
   "metadata": {},
   "outputs": [
    {
     "ename": "TypeError",
     "evalue": "Index(...) must be called with a collection of some kind, 'lugar_nacimiento' was passed",
     "output_type": "error",
     "traceback": [
      "\u001b[0;31m---------------------------------------------------------------------------\u001b[0m",
      "\u001b[0;31mTypeError\u001b[0m                                 Traceback (most recent call last)",
      "\u001b[0;32m/var/folders/4x/15l8lrvd3tn3z1tky78h8kxw0000gn/T/ipykernel_5613/687357439.py\u001b[0m in \u001b[0;36m<module>\u001b[0;34m\u001b[0m\n\u001b[0;32m----> 1\u001b[0;31m \u001b[0mejes_df\u001b[0m \u001b[0;34m=\u001b[0m \u001b[0mpd\u001b[0m\u001b[0;34m.\u001b[0m\u001b[0mDataFrame\u001b[0m\u001b[0;34m(\u001b[0m\u001b[0mpers_df\u001b[0m\u001b[0;34m[\u001b[0m\u001b[0;34m'nombre'\u001b[0m\u001b[0;34m]\u001b[0m\u001b[0;34m,\u001b[0m\u001b[0;34m'lugar_nacimiento'\u001b[0m\u001b[0;34m,\u001b[0m\u001b[0mpers_df\u001b[0m\u001b[0;34m[\u001b[0m\u001b[0;34m'lugar_nacimiento'\u001b[0m\u001b[0;34m]\u001b[0m\u001b[0;34m)\u001b[0m\u001b[0;34m\u001b[0m\u001b[0;34m\u001b[0m\u001b[0m\n\u001b[0m\u001b[1;32m      2\u001b[0m \u001b[0mdisplay\u001b[0m\u001b[0;34m(\u001b[0m\u001b[0mejes_df\u001b[0m\u001b[0;34m)\u001b[0m\u001b[0;34m\u001b[0m\u001b[0;34m\u001b[0m\u001b[0m\n",
      "\u001b[0;32m~/opt/anaconda3/lib/python3.9/site-packages/pandas/core/frame.py\u001b[0m in \u001b[0;36m__init__\u001b[0;34m(self, data, index, columns, dtype, copy)\u001b[0m\n\u001b[1;32m    682\u001b[0m             \u001b[0;32melif\u001b[0m \u001b[0mgetattr\u001b[0m\u001b[0;34m(\u001b[0m\u001b[0mdata\u001b[0m\u001b[0;34m,\u001b[0m \u001b[0;34m\"name\"\u001b[0m\u001b[0;34m,\u001b[0m \u001b[0;32mNone\u001b[0m\u001b[0;34m)\u001b[0m \u001b[0;32mis\u001b[0m \u001b[0;32mnot\u001b[0m \u001b[0;32mNone\u001b[0m\u001b[0;34m:\u001b[0m\u001b[0;34m\u001b[0m\u001b[0;34m\u001b[0m\u001b[0m\n\u001b[1;32m    683\u001b[0m                 \u001b[0;31m# i.e. Series/Index with non-None name\u001b[0m\u001b[0;34m\u001b[0m\u001b[0;34m\u001b[0m\u001b[0m\n\u001b[0;32m--> 684\u001b[0;31m                 mgr = dict_to_mgr(\n\u001b[0m\u001b[1;32m    685\u001b[0m                     \u001b[0;31m# error: Item \"ndarray\" of \"Union[ndarray, Series, Index]\" has no\u001b[0m\u001b[0;34m\u001b[0m\u001b[0;34m\u001b[0m\u001b[0m\n\u001b[1;32m    686\u001b[0m                     \u001b[0;31m# attribute \"name\"\u001b[0m\u001b[0;34m\u001b[0m\u001b[0;34m\u001b[0m\u001b[0m\n",
      "\u001b[0;32m~/opt/anaconda3/lib/python3.9/site-packages/pandas/core/internals/construction.py\u001b[0m in \u001b[0;36mdict_to_mgr\u001b[0;34m(data, index, columns, dtype, typ, copy)\u001b[0m\n\u001b[1;32m    450\u001b[0m             \u001b[0mindex\u001b[0m \u001b[0;34m=\u001b[0m \u001b[0m_extract_index\u001b[0m\u001b[0;34m(\u001b[0m\u001b[0marrays\u001b[0m\u001b[0;34m[\u001b[0m\u001b[0;34m~\u001b[0m\u001b[0mmissing\u001b[0m\u001b[0;34m]\u001b[0m\u001b[0;34m)\u001b[0m\u001b[0;34m\u001b[0m\u001b[0;34m\u001b[0m\u001b[0m\n\u001b[1;32m    451\u001b[0m         \u001b[0;32melse\u001b[0m\u001b[0;34m:\u001b[0m\u001b[0;34m\u001b[0m\u001b[0;34m\u001b[0m\u001b[0m\n\u001b[0;32m--> 452\u001b[0;31m             \u001b[0mindex\u001b[0m \u001b[0;34m=\u001b[0m \u001b[0mensure_index\u001b[0m\u001b[0;34m(\u001b[0m\u001b[0mindex\u001b[0m\u001b[0;34m)\u001b[0m\u001b[0;34m\u001b[0m\u001b[0;34m\u001b[0m\u001b[0m\n\u001b[0m\u001b[1;32m    453\u001b[0m \u001b[0;34m\u001b[0m\u001b[0m\n\u001b[1;32m    454\u001b[0m         \u001b[0;31m# no obvious \"empty\" int column\u001b[0m\u001b[0;34m\u001b[0m\u001b[0;34m\u001b[0m\u001b[0m\n",
      "\u001b[0;32m~/opt/anaconda3/lib/python3.9/site-packages/pandas/core/indexes/base.py\u001b[0m in \u001b[0;36mensure_index\u001b[0;34m(index_like, copy)\u001b[0m\n\u001b[1;32m   7058\u001b[0m             \u001b[0;32mreturn\u001b[0m \u001b[0mIndex\u001b[0m\u001b[0;34m.\u001b[0m\u001b[0m_with_infer\u001b[0m\u001b[0;34m(\u001b[0m\u001b[0mindex_like\u001b[0m\u001b[0;34m,\u001b[0m \u001b[0mcopy\u001b[0m\u001b[0;34m=\u001b[0m\u001b[0mcopy\u001b[0m\u001b[0;34m,\u001b[0m \u001b[0mtupleize_cols\u001b[0m\u001b[0;34m=\u001b[0m\u001b[0;32mFalse\u001b[0m\u001b[0;34m)\u001b[0m\u001b[0;34m\u001b[0m\u001b[0;34m\u001b[0m\u001b[0m\n\u001b[1;32m   7059\u001b[0m     \u001b[0;32melse\u001b[0m\u001b[0;34m:\u001b[0m\u001b[0;34m\u001b[0m\u001b[0;34m\u001b[0m\u001b[0m\n\u001b[0;32m-> 7060\u001b[0;31m         \u001b[0;32mreturn\u001b[0m \u001b[0mIndex\u001b[0m\u001b[0;34m.\u001b[0m\u001b[0m_with_infer\u001b[0m\u001b[0;34m(\u001b[0m\u001b[0mindex_like\u001b[0m\u001b[0;34m,\u001b[0m \u001b[0mcopy\u001b[0m\u001b[0;34m=\u001b[0m\u001b[0mcopy\u001b[0m\u001b[0;34m)\u001b[0m\u001b[0;34m\u001b[0m\u001b[0;34m\u001b[0m\u001b[0m\n\u001b[0m\u001b[1;32m   7061\u001b[0m \u001b[0;34m\u001b[0m\u001b[0m\n\u001b[1;32m   7062\u001b[0m \u001b[0;34m\u001b[0m\u001b[0m\n",
      "\u001b[0;32m~/opt/anaconda3/lib/python3.9/site-packages/pandas/core/indexes/base.py\u001b[0m in \u001b[0;36m_with_infer\u001b[0;34m(cls, *args, **kwargs)\u001b[0m\n\u001b[1;32m    678\u001b[0m         \u001b[0;32mwith\u001b[0m \u001b[0mwarnings\u001b[0m\u001b[0;34m.\u001b[0m\u001b[0mcatch_warnings\u001b[0m\u001b[0;34m(\u001b[0m\u001b[0;34m)\u001b[0m\u001b[0;34m:\u001b[0m\u001b[0;34m\u001b[0m\u001b[0;34m\u001b[0m\u001b[0m\n\u001b[1;32m    679\u001b[0m             \u001b[0mwarnings\u001b[0m\u001b[0;34m.\u001b[0m\u001b[0mfilterwarnings\u001b[0m\u001b[0;34m(\u001b[0m\u001b[0;34m\"ignore\"\u001b[0m\u001b[0;34m,\u001b[0m \u001b[0;34m\".*the Index constructor\"\u001b[0m\u001b[0;34m,\u001b[0m \u001b[0mFutureWarning\u001b[0m\u001b[0;34m)\u001b[0m\u001b[0;34m\u001b[0m\u001b[0;34m\u001b[0m\u001b[0m\n\u001b[0;32m--> 680\u001b[0;31m             \u001b[0mresult\u001b[0m \u001b[0;34m=\u001b[0m \u001b[0mcls\u001b[0m\u001b[0;34m(\u001b[0m\u001b[0;34m*\u001b[0m\u001b[0margs\u001b[0m\u001b[0;34m,\u001b[0m \u001b[0;34m**\u001b[0m\u001b[0mkwargs\u001b[0m\u001b[0;34m)\u001b[0m\u001b[0;34m\u001b[0m\u001b[0;34m\u001b[0m\u001b[0m\n\u001b[0m\u001b[1;32m    681\u001b[0m \u001b[0;34m\u001b[0m\u001b[0m\n\u001b[1;32m    682\u001b[0m         \u001b[0;32mif\u001b[0m \u001b[0mresult\u001b[0m\u001b[0;34m.\u001b[0m\u001b[0mdtype\u001b[0m \u001b[0;34m==\u001b[0m \u001b[0m_dtype_obj\u001b[0m \u001b[0;32mand\u001b[0m \u001b[0;32mnot\u001b[0m \u001b[0mresult\u001b[0m\u001b[0;34m.\u001b[0m\u001b[0m_is_multi\u001b[0m\u001b[0;34m:\u001b[0m\u001b[0;34m\u001b[0m\u001b[0;34m\u001b[0m\u001b[0m\n",
      "\u001b[0;32m~/opt/anaconda3/lib/python3.9/site-packages/pandas/core/indexes/base.py\u001b[0m in \u001b[0;36m__new__\u001b[0;34m(cls, data, dtype, copy, name, tupleize_cols, **kwargs)\u001b[0m\n\u001b[1;32m    506\u001b[0m \u001b[0;34m\u001b[0m\u001b[0m\n\u001b[1;32m    507\u001b[0m         \u001b[0;32melif\u001b[0m \u001b[0mis_scalar\u001b[0m\u001b[0;34m(\u001b[0m\u001b[0mdata\u001b[0m\u001b[0;34m)\u001b[0m\u001b[0;34m:\u001b[0m\u001b[0;34m\u001b[0m\u001b[0;34m\u001b[0m\u001b[0m\n\u001b[0;32m--> 508\u001b[0;31m             \u001b[0;32mraise\u001b[0m \u001b[0mcls\u001b[0m\u001b[0;34m.\u001b[0m\u001b[0m_scalar_data_error\u001b[0m\u001b[0;34m(\u001b[0m\u001b[0mdata\u001b[0m\u001b[0;34m)\u001b[0m\u001b[0;34m\u001b[0m\u001b[0;34m\u001b[0m\u001b[0m\n\u001b[0m\u001b[1;32m    509\u001b[0m         \u001b[0;32melif\u001b[0m \u001b[0mhasattr\u001b[0m\u001b[0;34m(\u001b[0m\u001b[0mdata\u001b[0m\u001b[0;34m,\u001b[0m \u001b[0;34m\"__array__\"\u001b[0m\u001b[0;34m)\u001b[0m\u001b[0;34m:\u001b[0m\u001b[0;34m\u001b[0m\u001b[0;34m\u001b[0m\u001b[0m\n\u001b[1;32m    510\u001b[0m             \u001b[0;32mreturn\u001b[0m \u001b[0mIndex\u001b[0m\u001b[0;34m(\u001b[0m\u001b[0mnp\u001b[0m\u001b[0;34m.\u001b[0m\u001b[0masarray\u001b[0m\u001b[0;34m(\u001b[0m\u001b[0mdata\u001b[0m\u001b[0;34m)\u001b[0m\u001b[0;34m,\u001b[0m \u001b[0mdtype\u001b[0m\u001b[0;34m=\u001b[0m\u001b[0mdtype\u001b[0m\u001b[0;34m,\u001b[0m \u001b[0mcopy\u001b[0m\u001b[0;34m=\u001b[0m\u001b[0mcopy\u001b[0m\u001b[0;34m,\u001b[0m \u001b[0mname\u001b[0m\u001b[0;34m=\u001b[0m\u001b[0mname\u001b[0m\u001b[0;34m,\u001b[0m \u001b[0;34m**\u001b[0m\u001b[0mkwargs\u001b[0m\u001b[0;34m)\u001b[0m\u001b[0;34m\u001b[0m\u001b[0;34m\u001b[0m\u001b[0m\n",
      "\u001b[0;31mTypeError\u001b[0m: Index(...) must be called with a collection of some kind, 'lugar_nacimiento' was passed"
     ]
    }
   ],
   "source": [
    "ejes_df = pd.DataFrame(pers_df['nombre'],'lugar_nacimiento',pers_df['lugar_nacimiento'])\n",
    "display(ejes_df)"
   ]
  },
  {
   "cell_type": "code",
   "execution_count": null,
   "id": "822aabde",
   "metadata": {},
   "outputs": [],
   "source": [
    "# import\n",
    "from jaal import Jaal\n",
    "from dash import html\n",
    "from jaal.datasets import load_got\n",
    "# load the data\n",
    "edge_df, node_df = load_got()\n",
    "display(edge_df)\n",
    "display(node_df)"
   ]
  },
  {
   "cell_type": "code",
   "execution_count": null,
   "id": "703f2f78",
   "metadata": {},
   "outputs": [],
   "source": [
    "# init Jaal and run server\n",
    "Jaal(edge_df, node_df).plot()"
   ]
  },
  {
   "cell_type": "markdown",
   "id": "4f476f55",
   "metadata": {},
   "source": [
    "## Grafo\n",
    "Con los datos de la tabla anterior se generan tripletas (\\<sujeto\\> \\<predicado\\> \\<objeto\\>) como las siguientes:\n",
    "+ \\<Juan\\> \\<año_de_nacimiento\\> \"2020\"\n",
    "+ \\<Juan\\> \\<tiene_madre\\> \\<Ana\\>"
   ]
  },
  {
   "cell_type": "code",
   "execution_count": null,
   "id": "6b9d5e20",
   "metadata": {},
   "outputs": [],
   "source": [
    "from rdflib import Graph, Literal, URIRef, Namespace, RDF, RDFS"
   ]
  },
  {
   "cell_type": "markdown",
   "id": "2b65ad35",
   "metadata": {},
   "source": [
    "### Espacios de nombres"
   ]
  },
  {
   "cell_type": "code",
   "execution_count": null,
   "id": "56e9a197",
   "metadata": {},
   "outputs": [],
   "source": [
    "EXR = Namespace(\"http://example.org/recursos#\")\n",
    "EXP = Namespace(\"http://example.org/propiedades#\")\n",
    "\n",
    "# Recursos citados desde la lista de diccionarios 'pers'\n",
    "print(URIRef(EXR + pers[0]['nombre']))\n",
    "print(URIRef(EXP.año_nacimiento))\n",
    "print(Literal(pers[0]['año_nacimiento']))"
   ]
  },
  {
   "cell_type": "markdown",
   "id": "5195ed98",
   "metadata": {},
   "source": [
    "### Generación del grafo"
   ]
  },
  {
   "cell_type": "code",
   "execution_count": null,
   "id": "028c7d90",
   "metadata": {},
   "outputs": [],
   "source": [
    "g = Graph()\n",
    "\n",
    "for p in pers:\n",
    "    sujeto = URIRef(EXR + p['nombre'])\n",
    "    for key, value in p.items():\n",
    "        if key=='nombre':\n",
    "            pass\n",
    "        elif key=='año_nacimiento' :\n",
    "            g.add( (sujeto, URIRef(EXP + key), Literal(value)) )\n",
    "        else:\n",
    "            g.add( (sujeto, URIRef(EXP + key), URIRef(EXR + value)) )"
   ]
  },
  {
   "cell_type": "code",
   "execution_count": null,
   "id": "02ebf8ff",
   "metadata": {},
   "outputs": [],
   "source": [
    "# Serialización del grafo RDF creado, en formato Turtle.\n",
    "g_ttl = g.serialize(format='turtle')\n",
    "g_ttl"
   ]
  },
  {
   "cell_type": "markdown",
   "id": "50d221ec",
   "metadata": {},
   "source": [
    "### Visualización del grafo inicial\n",
    "Entre otras opciones posibles, se importa el paquete Jaal para visualizar interactivamente el grafo (en pestaña aparte). Descomente la primera línea, en caso de que no haya sido previamente instalado."
   ]
  },
  {
   "cell_type": "code",
   "execution_count": null,
   "id": "77f4c8fd",
   "metadata": {},
   "outputs": [],
   "source": [
    "#!pip install Jaal\n",
    "from jaal import Jaal\n",
    "from dash import html\n",
    "import dash_html_components as html"
   ]
  },
  {
   "cell_type": "markdown",
   "id": "ff15a509",
   "metadata": {},
   "source": [
    "Este paquete require un dataframe con al menos dos columnas (\"from\", \"to\") con los pares de nodos relacionados. La siguiente función genera ese dataframe desde el grafo RDF, mostrando sólo la parte final del URIRef de cada entidad."
   ]
  },
  {
   "cell_type": "code",
   "execution_count": null,
   "id": "e9698723",
   "metadata": {
    "scrolled": true
   },
   "outputs": [],
   "source": [
    "def rdf2edge_df(grafo):\n",
    "    ternas = []\n",
    "    for s, p, o in grafo:\n",
    "        if isinstance(o,URIRef):\n",
    "            oout = o.fragment\n",
    "        else:\n",
    "            oout = o\n",
    "        ternas.append([s.fragment,p.fragment,oout])\n",
    "    return pd.DataFrame(ternas,columns=[\"from\",\"label\",\"to\"])\n",
    "\n",
    "edge_df = rdf2edge_df(g)\n",
    "display(edge_df)"
   ]
  },
  {
   "cell_type": "code",
   "execution_count": null,
   "id": "1b158569",
   "metadata": {},
   "outputs": [],
   "source": [
    "Jaal(edge_df).plot(directed=True)"
   ]
  },
  {
   "cell_type": "markdown",
   "id": "8b54d981",
   "metadata": {},
   "source": [
    "## Consultas y actualización\n",
    "RDFLib permite consultar y administrar el grafo de dos formas complementarias:\n",
    "+ mediante el lenguaje estándar de consulta y administración SPARQL\n",
    "+ mediante gestión directa y a bajo nivel de los objetos Python del grafo\n",
    "### Consultas mediante SPARQL\n",
    "Consulta SELECT: devuelve todas las coincidencias en el grafo del patrón declarado en WHERE. En este caso, cada persona de la que conste tanto su madre como su padre."
   ]
  },
  {
   "cell_type": "code",
   "execution_count": null,
   "id": "9f1a27ac",
   "metadata": {},
   "outputs": [],
   "source": [
    "consulta1='''\n",
    "  PREFIX rec: <http://example.org/recursos#>\n",
    "  PREFIX prop: <http://example.org/propiedades#>\n",
    "  SELECT ?s ?m ?p\n",
    "  WHERE {\n",
    "    ?s prop:tiene_madre ?m ;\n",
    "       prop:tiene_padre ?p .\n",
    "  }\n",
    "'''\n",
    "resultados1 = g.query(consulta1)\n",
    "\n",
    "for fila in resultados1:\n",
    "    print(f\"{fila.s}, madre: {fila.m}, padre: {fila.p}\")"
   ]
  },
  {
   "cell_type": "markdown",
   "id": "abf5f251",
   "metadata": {},
   "source": [
    "### Actualización mediante SPARQL\n",
    "Actualización (UPDATE) del grafo: permite ejecutar INSERT o DELETE sobre entidades o tripletas seleccionadas en WHERE. En este caso, para cada instancia (?s,?m,?p) en el grafo del patrón en WHERE se asigna a cada una de sus componentes la clase Persona."
   ]
  },
  {
   "cell_type": "code",
   "execution_count": null,
   "id": "43030fa5",
   "metadata": {
    "scrolled": true
   },
   "outputs": [],
   "source": [
    "consulta2='''\n",
    "  PREFIX rec: <http://example.org/recursos#>\n",
    "  PREFIX prop: <http://example.org/propiedades#>\n",
    "  INSERT {\n",
    "    rec:Persona rdf:type rdfs:Class .\n",
    "    ?s rdf:type rec:Persona .\n",
    "    ?m rdf:type rec:Persona .\n",
    "    ?p rdf:type rec:Persona .\n",
    "  }\n",
    "  WHERE {\n",
    "    ?s prop:tiene_madre ?m ;\n",
    "       prop:tiene_padre ?p .\n",
    "  }\n",
    "'''\n",
    "g.update(consulta2)\n",
    "\n",
    "#print(g.serialize(format='turtle'))\n",
    "g.serialize(destination='g_ttl.ttl', format='turtle')"
   ]
  },
  {
   "cell_type": "code",
   "execution_count": null,
   "id": "d788178a",
   "metadata": {},
   "outputs": [],
   "source": [
    "g_ttl"
   ]
  },
  {
   "cell_type": "code",
   "execution_count": null,
   "id": "a00492c3",
   "metadata": {},
   "outputs": [],
   "source": [
    "import io\n",
    "r_io = io.StringIO(g.serialize(format='turtle'))\n",
    "print(type(r_io))"
   ]
  },
  {
   "cell_type": "markdown",
   "id": "0a46c0ff",
   "metadata": {},
   "source": [
    "### Consulta mediante métodos Python\n",
    "En este caso, se requieren todas las tripletas del grafo que tienen por propiedad 'lugar de nacimiento'."
   ]
  },
  {
   "cell_type": "code",
   "execution_count": null,
   "id": "1c00bc33",
   "metadata": {
    "scrolled": true
   },
   "outputs": [],
   "source": [
    "for s, p, o in g.triples( (None, EXP.lugar_nacimiento, None) ):\n",
    "    print(s,p,o)"
   ]
  },
  {
   "cell_type": "markdown",
   "id": "a8acedda",
   "metadata": {},
   "source": [
    "### Actualización mediante métodos Python\n",
    "Se añade una terna, que declara la clase Ciudad. Y se inserta, para cada ciudad del grafo, su declaración como instancia de la clase Ciudad."
   ]
  },
  {
   "cell_type": "code",
   "execution_count": null,
   "id": "2a1e5041",
   "metadata": {},
   "outputs": [],
   "source": [
    "g.add( (EXR.Ciudad, RDF.type, RDFS.Class) )\n",
    "\n",
    "for s, p, o in g.triples( (None, EXP.lugar_nacimiento, None) ):\n",
    "    g.add( (o, RDF.type, EXR.Ciudad) )"
   ]
  },
  {
   "cell_type": "code",
   "execution_count": null,
   "id": "18488634",
   "metadata": {
    "scrolled": true
   },
   "outputs": [],
   "source": [
    "# Comprobación: instancias de la clase Ciudad\n",
    "for s, p, o in g.triples( (None, RDF.type, EXR.Ciudad) ):\n",
    "    print(s,p,o)"
   ]
  },
  {
   "cell_type": "code",
   "execution_count": null,
   "id": "24524274",
   "metadata": {},
   "outputs": [],
   "source": [
    "gio = io.StringIO()\n",
    "gio.write(g_ttl)\n",
    "print(type(gio))"
   ]
  },
  {
   "cell_type": "code",
   "execution_count": null,
   "id": "0e349895",
   "metadata": {},
   "outputs": [],
   "source": [
    "giob = io.BytesIO()\n",
    "giob.write(g_ttl.encode('utf-8'))\n",
    "print(type(giob))"
   ]
  },
  {
   "cell_type": "code",
   "execution_count": null,
   "id": "2b299b61",
   "metadata": {},
   "outputs": [],
   "source": [
    "g_ttl_e = g.serialize(format=\"turtle\", encoding=\"utf-8\")\n",
    "type(g_ttl_e)"
   ]
  },
  {
   "cell_type": "code",
   "execution_count": null,
   "id": "e84264de",
   "metadata": {},
   "outputs": [],
   "source": [
    "jlj = open('g_ttl.ttl','rb')\n",
    "type (jlj)"
   ]
  },
  {
   "cell_type": "code",
   "execution_count": null,
   "id": "92fc3720",
   "metadata": {},
   "outputs": [],
   "source": [
    "# FUNCIONA\n",
    "import requests\n",
    "\n",
    "headers = {\n",
    "  'Content-Type': 'application/x-turtle',\n",
    "  'Accept': 'application/json'\n",
    "}\n",
    "\n",
    "with open('g_ttl.ttl', 'rb') as f:\n",
    "  requests.post('http://localhost:7200/repositories/parentesco/statements', data=f, headers=headers)"
   ]
  },
  {
   "cell_type": "code",
   "execution_count": null,
   "id": "c5b470da",
   "metadata": {},
   "outputs": [],
   "source": [
    "# FUNCIONA\n",
    "# requiere que g_ttl_e se haya serializado con encoding='utf-8' para generar bytes\n",
    "headers = {\n",
    "  'Content-Type': 'application/x-turtle',\n",
    "  'Accept': 'application/json'\n",
    "}\n",
    "\n",
    "requests.post('http://localhost:7200/repositories/parentesco2/statements', data=g_ttl_e, headers=headers)"
   ]
  },
  {
   "cell_type": "code",
   "execution_count": null,
   "id": "0e1d699e",
   "metadata": {},
   "outputs": [],
   "source": [
    "#graph.serialize(my_url, format='application/rdf+xml')\n",
    "#import requests\n",
    "#import io\n",
    "import sys\n",
    "\n",
    "headers = {\n",
    "  'Content-Type': 'application/x+turtle',\n",
    "  'Accept': 'application/json'\n",
    "}\n",
    "\n",
    "requests.post('http://localhost:7200/repositories/parentesco/statements', data=r_io, headers=headers)"
   ]
  },
  {
   "cell_type": "code",
   "execution_count": null,
   "id": "fb15882e",
   "metadata": {},
   "outputs": [],
   "source": [
    "!curl --help"
   ]
  },
  {
   "cell_type": "code",
   "execution_count": null,
   "id": "53bf83fb",
   "metadata": {},
   "outputs": [],
   "source": []
  }
 ],
 "metadata": {
  "kernelspec": {
   "display_name": "Python 3 (ipykernel)",
   "language": "python",
   "name": "python3"
  },
  "language_info": {
   "codemirror_mode": {
    "name": "ipython",
    "version": 3
   },
   "file_extension": ".py",
   "mimetype": "text/x-python",
   "name": "python",
   "nbconvert_exporter": "python",
   "pygments_lexer": "ipython3",
   "version": "3.9.13"
  }
 },
 "nbformat": 4,
 "nbformat_minor": 5
}
